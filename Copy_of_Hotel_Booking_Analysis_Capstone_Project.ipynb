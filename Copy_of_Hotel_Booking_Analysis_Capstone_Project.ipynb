{
  "nbformat": 4,
  "nbformat_minor": 0,
  "metadata": {
    "kernelspec": {
      "display_name": "Python 3",
      "language": "python",
      "name": "python3"
    },
    "language_info": {
      "codemirror_mode": {
        "name": "ipython",
        "version": 3
      },
      "file_extension": ".py",
      "mimetype": "text/x-python",
      "name": "python",
      "nbconvert_exporter": "python",
      "pygments_lexer": "ipython3",
      "version": "3.6.6"
    },
    "colab": {
      "name": "Copy of Hotel Booking Analysis - Capstone Project.ipynb",
      "provenance": [],
      "collapsed_sections": [],
      "include_colab_link": true
    }
  },
  "cells": [
    {
      "cell_type": "markdown",
      "metadata": {
        "id": "view-in-github",
        "colab_type": "text"
      },
      "source": [
        "<a href=\"https://colab.research.google.com/github/Arun1374/Hotel-booking-analysis-Project/blob/main/Copy_of_Hotel_Booking_Analysis_Capstone_Project.ipynb\" target=\"_parent\"><img src=\"https://colab.research.google.com/assets/colab-badge.svg\" alt=\"Open In Colab\"/></a>"
      ]
    },
    {
      "cell_type": "markdown",
      "metadata": {
        "id": "Y06xIdG26kRF"
      },
      "source": [
        "## <b> Have you ever wondered when the best time of year to book a hotel room is? Or the optimal length of stay in order to get the best daily rate? What if you wanted to predict whether or not a hotel was likely to receive a disproportionately high number of special requests? This hotel booking dataset can help you explore those questions!\n",
        "\n",
        "## <b>This data set contains booking information for a city hotel and a resort hotel, and includes information such as when the booking was made, length of stay, the number of adults, children, and/or babies, and the number of available parking spaces, among other things. All personally identifying information has been removed from the data. </b>\n",
        "\n",
        "## <b> Explore and analyze the data to discover important factors that govern the bookings. </b>"
      ]
    },
    {
      "cell_type": "code",
      "metadata": {
        "id": "dByMsuzT8Tnw"
      },
      "source": [
        "import pandas as pd\n",
        "import numpy as np\n",
        "import matplotlib.pyplot as plt\n"
      ],
      "execution_count": null,
      "outputs": []
    },
    {
      "cell_type": "code",
      "source": [
        "from google.colab import drive\n",
        "drive.mount('/content/drive')"
      ],
      "metadata": {
        "colab": {
          "base_uri": "https://localhost:8080/"
        },
        "id": "5PyIOBaDQhPJ",
        "outputId": "142a1fb3-f317-42f0-8e90-2c7abb23683c"
      },
      "execution_count": null,
      "outputs": [
        {
          "output_type": "stream",
          "name": "stdout",
          "text": [
            "Mounted at /content/drive\n"
          ]
        }
      ]
    },
    {
      "cell_type": "code",
      "source": [
        "content='/content/drive/MyDrive/Copy of Hotel Bookings.csv'\n",
        "df=pd.read_csv(content)"
      ],
      "metadata": {
        "id": "XKTvtqhXQk00"
      },
      "execution_count": null,
      "outputs": []
    },
    {
      "cell_type": "code",
      "source": [
        "#rows and column present are as below in the given DataType-\n",
        "df.shape"
      ],
      "metadata": {
        "colab": {
          "base_uri": "https://localhost:8080/"
        },
        "id": "e7CkYtsoSS-B",
        "outputId": "713994e7-3180-4029-f558-c1925c18b06a"
      },
      "execution_count": null,
      "outputs": [
        {
          "output_type": "execute_result",
          "data": {
            "text/plain": [
              "(119390, 32)"
            ]
          },
          "metadata": {},
          "execution_count": 4
        }
      ]
    },
    {
      "cell_type": "code",
      "source": [
        "df"
      ],
      "metadata": {
        "colab": {
          "base_uri": "https://localhost:8080/",
          "height": 661
        },
        "id": "1AnhKEMpXVHR",
        "outputId": "6696d5c5-8cb0-4f70-a55a-f1508349775d"
      },
      "execution_count": null,
      "outputs": [
        {
          "output_type": "execute_result",
          "data": {
            "text/plain": [
              "               hotel  is_canceled  lead_time  arrival_date_year  \\\n",
              "0       Resort Hotel            0        342               2015   \n",
              "1       Resort Hotel            0        737               2015   \n",
              "2       Resort Hotel            0          7               2015   \n",
              "3       Resort Hotel            0         13               2015   \n",
              "4       Resort Hotel            0         14               2015   \n",
              "...              ...          ...        ...                ...   \n",
              "119385    City Hotel            0         23               2017   \n",
              "119386    City Hotel            0        102               2017   \n",
              "119387    City Hotel            0         34               2017   \n",
              "119388    City Hotel            0        109               2017   \n",
              "119389    City Hotel            0        205               2017   \n",
              "\n",
              "       arrival_date_month  arrival_date_week_number  \\\n",
              "0                    July                        27   \n",
              "1                    July                        27   \n",
              "2                    July                        27   \n",
              "3                    July                        27   \n",
              "4                    July                        27   \n",
              "...                   ...                       ...   \n",
              "119385             August                        35   \n",
              "119386             August                        35   \n",
              "119387             August                        35   \n",
              "119388             August                        35   \n",
              "119389             August                        35   \n",
              "\n",
              "        arrival_date_day_of_month  stays_in_weekend_nights  \\\n",
              "0                               1                        0   \n",
              "1                               1                        0   \n",
              "2                               1                        0   \n",
              "3                               1                        0   \n",
              "4                               1                        0   \n",
              "...                           ...                      ...   \n",
              "119385                         30                        2   \n",
              "119386                         31                        2   \n",
              "119387                         31                        2   \n",
              "119388                         31                        2   \n",
              "119389                         29                        2   \n",
              "\n",
              "        stays_in_week_nights  adults  ...  deposit_type  agent company  \\\n",
              "0                          0       2  ...    No Deposit    NaN     NaN   \n",
              "1                          0       2  ...    No Deposit    NaN     NaN   \n",
              "2                          1       1  ...    No Deposit    NaN     NaN   \n",
              "3                          1       1  ...    No Deposit  304.0     NaN   \n",
              "4                          2       2  ...    No Deposit  240.0     NaN   \n",
              "...                      ...     ...  ...           ...    ...     ...   \n",
              "119385                     5       2  ...    No Deposit  394.0     NaN   \n",
              "119386                     5       3  ...    No Deposit    9.0     NaN   \n",
              "119387                     5       2  ...    No Deposit    9.0     NaN   \n",
              "119388                     5       2  ...    No Deposit   89.0     NaN   \n",
              "119389                     7       2  ...    No Deposit    9.0     NaN   \n",
              "\n",
              "       days_in_waiting_list customer_type     adr  \\\n",
              "0                         0     Transient    0.00   \n",
              "1                         0     Transient    0.00   \n",
              "2                         0     Transient   75.00   \n",
              "3                         0     Transient   75.00   \n",
              "4                         0     Transient   98.00   \n",
              "...                     ...           ...     ...   \n",
              "119385                    0     Transient   96.14   \n",
              "119386                    0     Transient  225.43   \n",
              "119387                    0     Transient  157.71   \n",
              "119388                    0     Transient  104.40   \n",
              "119389                    0     Transient  151.20   \n",
              "\n",
              "        required_car_parking_spaces  total_of_special_requests  \\\n",
              "0                                 0                          0   \n",
              "1                                 0                          0   \n",
              "2                                 0                          0   \n",
              "3                                 0                          0   \n",
              "4                                 0                          1   \n",
              "...                             ...                        ...   \n",
              "119385                            0                          0   \n",
              "119386                            0                          2   \n",
              "119387                            0                          4   \n",
              "119388                            0                          0   \n",
              "119389                            0                          2   \n",
              "\n",
              "        reservation_status reservation_status_date  \n",
              "0                Check-Out              2015-07-01  \n",
              "1                Check-Out              2015-07-01  \n",
              "2                Check-Out              2015-07-02  \n",
              "3                Check-Out              2015-07-02  \n",
              "4                Check-Out              2015-07-03  \n",
              "...                    ...                     ...  \n",
              "119385           Check-Out              2017-09-06  \n",
              "119386           Check-Out              2017-09-07  \n",
              "119387           Check-Out              2017-09-07  \n",
              "119388           Check-Out              2017-09-07  \n",
              "119389           Check-Out              2017-09-07  \n",
              "\n",
              "[119390 rows x 32 columns]"
            ],
            "text/html": [
              "\n",
              "  <div id=\"df-9b2bb09f-9196-4a27-b99e-4f75af510644\">\n",
              "    <div class=\"colab-df-container\">\n",
              "      <div>\n",
              "<style scoped>\n",
              "    .dataframe tbody tr th:only-of-type {\n",
              "        vertical-align: middle;\n",
              "    }\n",
              "\n",
              "    .dataframe tbody tr th {\n",
              "        vertical-align: top;\n",
              "    }\n",
              "\n",
              "    .dataframe thead th {\n",
              "        text-align: right;\n",
              "    }\n",
              "</style>\n",
              "<table border=\"1\" class=\"dataframe\">\n",
              "  <thead>\n",
              "    <tr style=\"text-align: right;\">\n",
              "      <th></th>\n",
              "      <th>hotel</th>\n",
              "      <th>is_canceled</th>\n",
              "      <th>lead_time</th>\n",
              "      <th>arrival_date_year</th>\n",
              "      <th>arrival_date_month</th>\n",
              "      <th>arrival_date_week_number</th>\n",
              "      <th>arrival_date_day_of_month</th>\n",
              "      <th>stays_in_weekend_nights</th>\n",
              "      <th>stays_in_week_nights</th>\n",
              "      <th>adults</th>\n",
              "      <th>...</th>\n",
              "      <th>deposit_type</th>\n",
              "      <th>agent</th>\n",
              "      <th>company</th>\n",
              "      <th>days_in_waiting_list</th>\n",
              "      <th>customer_type</th>\n",
              "      <th>adr</th>\n",
              "      <th>required_car_parking_spaces</th>\n",
              "      <th>total_of_special_requests</th>\n",
              "      <th>reservation_status</th>\n",
              "      <th>reservation_status_date</th>\n",
              "    </tr>\n",
              "  </thead>\n",
              "  <tbody>\n",
              "    <tr>\n",
              "      <th>0</th>\n",
              "      <td>Resort Hotel</td>\n",
              "      <td>0</td>\n",
              "      <td>342</td>\n",
              "      <td>2015</td>\n",
              "      <td>July</td>\n",
              "      <td>27</td>\n",
              "      <td>1</td>\n",
              "      <td>0</td>\n",
              "      <td>0</td>\n",
              "      <td>2</td>\n",
              "      <td>...</td>\n",
              "      <td>No Deposit</td>\n",
              "      <td>NaN</td>\n",
              "      <td>NaN</td>\n",
              "      <td>0</td>\n",
              "      <td>Transient</td>\n",
              "      <td>0.00</td>\n",
              "      <td>0</td>\n",
              "      <td>0</td>\n",
              "      <td>Check-Out</td>\n",
              "      <td>2015-07-01</td>\n",
              "    </tr>\n",
              "    <tr>\n",
              "      <th>1</th>\n",
              "      <td>Resort Hotel</td>\n",
              "      <td>0</td>\n",
              "      <td>737</td>\n",
              "      <td>2015</td>\n",
              "      <td>July</td>\n",
              "      <td>27</td>\n",
              "      <td>1</td>\n",
              "      <td>0</td>\n",
              "      <td>0</td>\n",
              "      <td>2</td>\n",
              "      <td>...</td>\n",
              "      <td>No Deposit</td>\n",
              "      <td>NaN</td>\n",
              "      <td>NaN</td>\n",
              "      <td>0</td>\n",
              "      <td>Transient</td>\n",
              "      <td>0.00</td>\n",
              "      <td>0</td>\n",
              "      <td>0</td>\n",
              "      <td>Check-Out</td>\n",
              "      <td>2015-07-01</td>\n",
              "    </tr>\n",
              "    <tr>\n",
              "      <th>2</th>\n",
              "      <td>Resort Hotel</td>\n",
              "      <td>0</td>\n",
              "      <td>7</td>\n",
              "      <td>2015</td>\n",
              "      <td>July</td>\n",
              "      <td>27</td>\n",
              "      <td>1</td>\n",
              "      <td>0</td>\n",
              "      <td>1</td>\n",
              "      <td>1</td>\n",
              "      <td>...</td>\n",
              "      <td>No Deposit</td>\n",
              "      <td>NaN</td>\n",
              "      <td>NaN</td>\n",
              "      <td>0</td>\n",
              "      <td>Transient</td>\n",
              "      <td>75.00</td>\n",
              "      <td>0</td>\n",
              "      <td>0</td>\n",
              "      <td>Check-Out</td>\n",
              "      <td>2015-07-02</td>\n",
              "    </tr>\n",
              "    <tr>\n",
              "      <th>3</th>\n",
              "      <td>Resort Hotel</td>\n",
              "      <td>0</td>\n",
              "      <td>13</td>\n",
              "      <td>2015</td>\n",
              "      <td>July</td>\n",
              "      <td>27</td>\n",
              "      <td>1</td>\n",
              "      <td>0</td>\n",
              "      <td>1</td>\n",
              "      <td>1</td>\n",
              "      <td>...</td>\n",
              "      <td>No Deposit</td>\n",
              "      <td>304.0</td>\n",
              "      <td>NaN</td>\n",
              "      <td>0</td>\n",
              "      <td>Transient</td>\n",
              "      <td>75.00</td>\n",
              "      <td>0</td>\n",
              "      <td>0</td>\n",
              "      <td>Check-Out</td>\n",
              "      <td>2015-07-02</td>\n",
              "    </tr>\n",
              "    <tr>\n",
              "      <th>4</th>\n",
              "      <td>Resort Hotel</td>\n",
              "      <td>0</td>\n",
              "      <td>14</td>\n",
              "      <td>2015</td>\n",
              "      <td>July</td>\n",
              "      <td>27</td>\n",
              "      <td>1</td>\n",
              "      <td>0</td>\n",
              "      <td>2</td>\n",
              "      <td>2</td>\n",
              "      <td>...</td>\n",
              "      <td>No Deposit</td>\n",
              "      <td>240.0</td>\n",
              "      <td>NaN</td>\n",
              "      <td>0</td>\n",
              "      <td>Transient</td>\n",
              "      <td>98.00</td>\n",
              "      <td>0</td>\n",
              "      <td>1</td>\n",
              "      <td>Check-Out</td>\n",
              "      <td>2015-07-03</td>\n",
              "    </tr>\n",
              "    <tr>\n",
              "      <th>...</th>\n",
              "      <td>...</td>\n",
              "      <td>...</td>\n",
              "      <td>...</td>\n",
              "      <td>...</td>\n",
              "      <td>...</td>\n",
              "      <td>...</td>\n",
              "      <td>...</td>\n",
              "      <td>...</td>\n",
              "      <td>...</td>\n",
              "      <td>...</td>\n",
              "      <td>...</td>\n",
              "      <td>...</td>\n",
              "      <td>...</td>\n",
              "      <td>...</td>\n",
              "      <td>...</td>\n",
              "      <td>...</td>\n",
              "      <td>...</td>\n",
              "      <td>...</td>\n",
              "      <td>...</td>\n",
              "      <td>...</td>\n",
              "      <td>...</td>\n",
              "    </tr>\n",
              "    <tr>\n",
              "      <th>119385</th>\n",
              "      <td>City Hotel</td>\n",
              "      <td>0</td>\n",
              "      <td>23</td>\n",
              "      <td>2017</td>\n",
              "      <td>August</td>\n",
              "      <td>35</td>\n",
              "      <td>30</td>\n",
              "      <td>2</td>\n",
              "      <td>5</td>\n",
              "      <td>2</td>\n",
              "      <td>...</td>\n",
              "      <td>No Deposit</td>\n",
              "      <td>394.0</td>\n",
              "      <td>NaN</td>\n",
              "      <td>0</td>\n",
              "      <td>Transient</td>\n",
              "      <td>96.14</td>\n",
              "      <td>0</td>\n",
              "      <td>0</td>\n",
              "      <td>Check-Out</td>\n",
              "      <td>2017-09-06</td>\n",
              "    </tr>\n",
              "    <tr>\n",
              "      <th>119386</th>\n",
              "      <td>City Hotel</td>\n",
              "      <td>0</td>\n",
              "      <td>102</td>\n",
              "      <td>2017</td>\n",
              "      <td>August</td>\n",
              "      <td>35</td>\n",
              "      <td>31</td>\n",
              "      <td>2</td>\n",
              "      <td>5</td>\n",
              "      <td>3</td>\n",
              "      <td>...</td>\n",
              "      <td>No Deposit</td>\n",
              "      <td>9.0</td>\n",
              "      <td>NaN</td>\n",
              "      <td>0</td>\n",
              "      <td>Transient</td>\n",
              "      <td>225.43</td>\n",
              "      <td>0</td>\n",
              "      <td>2</td>\n",
              "      <td>Check-Out</td>\n",
              "      <td>2017-09-07</td>\n",
              "    </tr>\n",
              "    <tr>\n",
              "      <th>119387</th>\n",
              "      <td>City Hotel</td>\n",
              "      <td>0</td>\n",
              "      <td>34</td>\n",
              "      <td>2017</td>\n",
              "      <td>August</td>\n",
              "      <td>35</td>\n",
              "      <td>31</td>\n",
              "      <td>2</td>\n",
              "      <td>5</td>\n",
              "      <td>2</td>\n",
              "      <td>...</td>\n",
              "      <td>No Deposit</td>\n",
              "      <td>9.0</td>\n",
              "      <td>NaN</td>\n",
              "      <td>0</td>\n",
              "      <td>Transient</td>\n",
              "      <td>157.71</td>\n",
              "      <td>0</td>\n",
              "      <td>4</td>\n",
              "      <td>Check-Out</td>\n",
              "      <td>2017-09-07</td>\n",
              "    </tr>\n",
              "    <tr>\n",
              "      <th>119388</th>\n",
              "      <td>City Hotel</td>\n",
              "      <td>0</td>\n",
              "      <td>109</td>\n",
              "      <td>2017</td>\n",
              "      <td>August</td>\n",
              "      <td>35</td>\n",
              "      <td>31</td>\n",
              "      <td>2</td>\n",
              "      <td>5</td>\n",
              "      <td>2</td>\n",
              "      <td>...</td>\n",
              "      <td>No Deposit</td>\n",
              "      <td>89.0</td>\n",
              "      <td>NaN</td>\n",
              "      <td>0</td>\n",
              "      <td>Transient</td>\n",
              "      <td>104.40</td>\n",
              "      <td>0</td>\n",
              "      <td>0</td>\n",
              "      <td>Check-Out</td>\n",
              "      <td>2017-09-07</td>\n",
              "    </tr>\n",
              "    <tr>\n",
              "      <th>119389</th>\n",
              "      <td>City Hotel</td>\n",
              "      <td>0</td>\n",
              "      <td>205</td>\n",
              "      <td>2017</td>\n",
              "      <td>August</td>\n",
              "      <td>35</td>\n",
              "      <td>29</td>\n",
              "      <td>2</td>\n",
              "      <td>7</td>\n",
              "      <td>2</td>\n",
              "      <td>...</td>\n",
              "      <td>No Deposit</td>\n",
              "      <td>9.0</td>\n",
              "      <td>NaN</td>\n",
              "      <td>0</td>\n",
              "      <td>Transient</td>\n",
              "      <td>151.20</td>\n",
              "      <td>0</td>\n",
              "      <td>2</td>\n",
              "      <td>Check-Out</td>\n",
              "      <td>2017-09-07</td>\n",
              "    </tr>\n",
              "  </tbody>\n",
              "</table>\n",
              "<p>119390 rows × 32 columns</p>\n",
              "</div>\n",
              "      <button class=\"colab-df-convert\" onclick=\"convertToInteractive('df-9b2bb09f-9196-4a27-b99e-4f75af510644')\"\n",
              "              title=\"Convert this dataframe to an interactive table.\"\n",
              "              style=\"display:none;\">\n",
              "        \n",
              "  <svg xmlns=\"http://www.w3.org/2000/svg\" height=\"24px\"viewBox=\"0 0 24 24\"\n",
              "       width=\"24px\">\n",
              "    <path d=\"M0 0h24v24H0V0z\" fill=\"none\"/>\n",
              "    <path d=\"M18.56 5.44l.94 2.06.94-2.06 2.06-.94-2.06-.94-.94-2.06-.94 2.06-2.06.94zm-11 1L8.5 8.5l.94-2.06 2.06-.94-2.06-.94L8.5 2.5l-.94 2.06-2.06.94zm10 10l.94 2.06.94-2.06 2.06-.94-2.06-.94-.94-2.06-.94 2.06-2.06.94z\"/><path d=\"M17.41 7.96l-1.37-1.37c-.4-.4-.92-.59-1.43-.59-.52 0-1.04.2-1.43.59L10.3 9.45l-7.72 7.72c-.78.78-.78 2.05 0 2.83L4 21.41c.39.39.9.59 1.41.59.51 0 1.02-.2 1.41-.59l7.78-7.78 2.81-2.81c.8-.78.8-2.07 0-2.86zM5.41 20L4 18.59l7.72-7.72 1.47 1.35L5.41 20z\"/>\n",
              "  </svg>\n",
              "      </button>\n",
              "      \n",
              "  <style>\n",
              "    .colab-df-container {\n",
              "      display:flex;\n",
              "      flex-wrap:wrap;\n",
              "      gap: 12px;\n",
              "    }\n",
              "\n",
              "    .colab-df-convert {\n",
              "      background-color: #E8F0FE;\n",
              "      border: none;\n",
              "      border-radius: 50%;\n",
              "      cursor: pointer;\n",
              "      display: none;\n",
              "      fill: #1967D2;\n",
              "      height: 32px;\n",
              "      padding: 0 0 0 0;\n",
              "      width: 32px;\n",
              "    }\n",
              "\n",
              "    .colab-df-convert:hover {\n",
              "      background-color: #E2EBFA;\n",
              "      box-shadow: 0px 1px 2px rgba(60, 64, 67, 0.3), 0px 1px 3px 1px rgba(60, 64, 67, 0.15);\n",
              "      fill: #174EA6;\n",
              "    }\n",
              "\n",
              "    [theme=dark] .colab-df-convert {\n",
              "      background-color: #3B4455;\n",
              "      fill: #D2E3FC;\n",
              "    }\n",
              "\n",
              "    [theme=dark] .colab-df-convert:hover {\n",
              "      background-color: #434B5C;\n",
              "      box-shadow: 0px 1px 3px 1px rgba(0, 0, 0, 0.15);\n",
              "      filter: drop-shadow(0px 1px 2px rgba(0, 0, 0, 0.3));\n",
              "      fill: #FFFFFF;\n",
              "    }\n",
              "  </style>\n",
              "\n",
              "      <script>\n",
              "        const buttonEl =\n",
              "          document.querySelector('#df-9b2bb09f-9196-4a27-b99e-4f75af510644 button.colab-df-convert');\n",
              "        buttonEl.style.display =\n",
              "          google.colab.kernel.accessAllowed ? 'block' : 'none';\n",
              "\n",
              "        async function convertToInteractive(key) {\n",
              "          const element = document.querySelector('#df-9b2bb09f-9196-4a27-b99e-4f75af510644');\n",
              "          const dataTable =\n",
              "            await google.colab.kernel.invokeFunction('convertToInteractive',\n",
              "                                                     [key], {});\n",
              "          if (!dataTable) return;\n",
              "\n",
              "          const docLinkHtml = 'Like what you see? Visit the ' +\n",
              "            '<a target=\"_blank\" href=https://colab.research.google.com/notebooks/data_table.ipynb>data table notebook</a>'\n",
              "            + ' to learn more about interactive tables.';\n",
              "          element.innerHTML = '';\n",
              "          dataTable['output_type'] = 'display_data';\n",
              "          await google.colab.output.renderOutput(dataTable, element);\n",
              "          const docLink = document.createElement('div');\n",
              "          docLink.innerHTML = docLinkHtml;\n",
              "          element.appendChild(docLink);\n",
              "        }\n",
              "      </script>\n",
              "    </div>\n",
              "  </div>\n",
              "  "
            ]
          },
          "metadata": {},
          "execution_count": 5
        }
      ]
    },
    {
      "cell_type": "code",
      "source": [
        "df.info()\n",
        "\n"
      ],
      "metadata": {
        "colab": {
          "base_uri": "https://localhost:8080/"
        },
        "id": "ILMFNnUGYtuY",
        "outputId": "86b6c175-91d9-48e9-81c2-fba62030fdc3"
      },
      "execution_count": null,
      "outputs": [
        {
          "output_type": "stream",
          "name": "stdout",
          "text": [
            "<class 'pandas.core.frame.DataFrame'>\n",
            "RangeIndex: 119390 entries, 0 to 119389\n",
            "Data columns (total 32 columns):\n",
            " #   Column                          Non-Null Count   Dtype  \n",
            "---  ------                          --------------   -----  \n",
            " 0   hotel                           119390 non-null  object \n",
            " 1   is_canceled                     119390 non-null  int64  \n",
            " 2   lead_time                       119390 non-null  int64  \n",
            " 3   arrival_date_year               119390 non-null  int64  \n",
            " 4   arrival_date_month              119390 non-null  object \n",
            " 5   arrival_date_week_number        119390 non-null  int64  \n",
            " 6   arrival_date_day_of_month       119390 non-null  int64  \n",
            " 7   stays_in_weekend_nights         119390 non-null  int64  \n",
            " 8   stays_in_week_nights            119390 non-null  int64  \n",
            " 9   adults                          119390 non-null  int64  \n",
            " 10  children                        119386 non-null  float64\n",
            " 11  babies                          119390 non-null  int64  \n",
            " 12  meal                            119390 non-null  object \n",
            " 13  country                         118902 non-null  object \n",
            " 14  market_segment                  119390 non-null  object \n",
            " 15  distribution_channel            119390 non-null  object \n",
            " 16  is_repeated_guest               119390 non-null  int64  \n",
            " 17  previous_cancellations          119390 non-null  int64  \n",
            " 18  previous_bookings_not_canceled  119390 non-null  int64  \n",
            " 19  reserved_room_type              119390 non-null  object \n",
            " 20  assigned_room_type              119390 non-null  object \n",
            " 21  booking_changes                 119390 non-null  int64  \n",
            " 22  deposit_type                    119390 non-null  object \n",
            " 23  agent                           103050 non-null  float64\n",
            " 24  company                         6797 non-null    float64\n",
            " 25  days_in_waiting_list            119390 non-null  int64  \n",
            " 26  customer_type                   119390 non-null  object \n",
            " 27  adr                             119390 non-null  float64\n",
            " 28  required_car_parking_spaces     119390 non-null  int64  \n",
            " 29  total_of_special_requests       119390 non-null  int64  \n",
            " 30  reservation_status              119390 non-null  object \n",
            " 31  reservation_status_date         119390 non-null  object \n",
            "dtypes: float64(4), int64(16), object(12)\n",
            "memory usage: 29.1+ MB\n"
          ]
        }
      ]
    },
    {
      "cell_type": "code",
      "source": [
        "df.describe()\n"
      ],
      "metadata": {
        "colab": {
          "base_uri": "https://localhost:8080/",
          "height": 364
        },
        "id": "TMr_Bv_xY2le",
        "outputId": "25c88437-6637-4993-8f08-efdb108322f7"
      },
      "execution_count": null,
      "outputs": [
        {
          "output_type": "execute_result",
          "data": {
            "text/plain": [
              "         is_canceled      lead_time  arrival_date_year  \\\n",
              "count  119390.000000  119390.000000      119390.000000   \n",
              "mean        0.370416     104.011416        2016.156554   \n",
              "std         0.482918     106.863097           0.707476   \n",
              "min         0.000000       0.000000        2015.000000   \n",
              "25%         0.000000      18.000000        2016.000000   \n",
              "50%         0.000000      69.000000        2016.000000   \n",
              "75%         1.000000     160.000000        2017.000000   \n",
              "max         1.000000     737.000000        2017.000000   \n",
              "\n",
              "       arrival_date_week_number  arrival_date_day_of_month  \\\n",
              "count             119390.000000              119390.000000   \n",
              "mean                  27.165173                  15.798241   \n",
              "std                   13.605138                   8.780829   \n",
              "min                    1.000000                   1.000000   \n",
              "25%                   16.000000                   8.000000   \n",
              "50%                   28.000000                  16.000000   \n",
              "75%                   38.000000                  23.000000   \n",
              "max                   53.000000                  31.000000   \n",
              "\n",
              "       stays_in_weekend_nights  stays_in_week_nights         adults  \\\n",
              "count            119390.000000         119390.000000  119390.000000   \n",
              "mean                  0.927599              2.500302       1.856403   \n",
              "std                   0.998613              1.908286       0.579261   \n",
              "min                   0.000000              0.000000       0.000000   \n",
              "25%                   0.000000              1.000000       2.000000   \n",
              "50%                   1.000000              2.000000       2.000000   \n",
              "75%                   2.000000              3.000000       2.000000   \n",
              "max                  19.000000             50.000000      55.000000   \n",
              "\n",
              "            children         babies  is_repeated_guest  \\\n",
              "count  119386.000000  119390.000000      119390.000000   \n",
              "mean        0.103890       0.007949           0.031912   \n",
              "std         0.398561       0.097436           0.175767   \n",
              "min         0.000000       0.000000           0.000000   \n",
              "25%         0.000000       0.000000           0.000000   \n",
              "50%         0.000000       0.000000           0.000000   \n",
              "75%         0.000000       0.000000           0.000000   \n",
              "max        10.000000      10.000000           1.000000   \n",
              "\n",
              "       previous_cancellations  previous_bookings_not_canceled  \\\n",
              "count           119390.000000                   119390.000000   \n",
              "mean                 0.087118                        0.137097   \n",
              "std                  0.844336                        1.497437   \n",
              "min                  0.000000                        0.000000   \n",
              "25%                  0.000000                        0.000000   \n",
              "50%                  0.000000                        0.000000   \n",
              "75%                  0.000000                        0.000000   \n",
              "max                 26.000000                       72.000000   \n",
              "\n",
              "       booking_changes          agent      company  days_in_waiting_list  \\\n",
              "count    119390.000000  103050.000000  6797.000000         119390.000000   \n",
              "mean          0.221124      86.693382   189.266735              2.321149   \n",
              "std           0.652306     110.774548   131.655015             17.594721   \n",
              "min           0.000000       1.000000     6.000000              0.000000   \n",
              "25%           0.000000       9.000000    62.000000              0.000000   \n",
              "50%           0.000000      14.000000   179.000000              0.000000   \n",
              "75%           0.000000     229.000000   270.000000              0.000000   \n",
              "max          21.000000     535.000000   543.000000            391.000000   \n",
              "\n",
              "                 adr  required_car_parking_spaces  total_of_special_requests  \n",
              "count  119390.000000                119390.000000              119390.000000  \n",
              "mean      101.831122                     0.062518                   0.571363  \n",
              "std        50.535790                     0.245291                   0.792798  \n",
              "min        -6.380000                     0.000000                   0.000000  \n",
              "25%        69.290000                     0.000000                   0.000000  \n",
              "50%        94.575000                     0.000000                   0.000000  \n",
              "75%       126.000000                     0.000000                   1.000000  \n",
              "max      5400.000000                     8.000000                   5.000000  "
            ],
            "text/html": [
              "\n",
              "  <div id=\"df-bcbd8fc9-ff0a-42d3-8a16-4bc8dcce84c0\">\n",
              "    <div class=\"colab-df-container\">\n",
              "      <div>\n",
              "<style scoped>\n",
              "    .dataframe tbody tr th:only-of-type {\n",
              "        vertical-align: middle;\n",
              "    }\n",
              "\n",
              "    .dataframe tbody tr th {\n",
              "        vertical-align: top;\n",
              "    }\n",
              "\n",
              "    .dataframe thead th {\n",
              "        text-align: right;\n",
              "    }\n",
              "</style>\n",
              "<table border=\"1\" class=\"dataframe\">\n",
              "  <thead>\n",
              "    <tr style=\"text-align: right;\">\n",
              "      <th></th>\n",
              "      <th>is_canceled</th>\n",
              "      <th>lead_time</th>\n",
              "      <th>arrival_date_year</th>\n",
              "      <th>arrival_date_week_number</th>\n",
              "      <th>arrival_date_day_of_month</th>\n",
              "      <th>stays_in_weekend_nights</th>\n",
              "      <th>stays_in_week_nights</th>\n",
              "      <th>adults</th>\n",
              "      <th>children</th>\n",
              "      <th>babies</th>\n",
              "      <th>is_repeated_guest</th>\n",
              "      <th>previous_cancellations</th>\n",
              "      <th>previous_bookings_not_canceled</th>\n",
              "      <th>booking_changes</th>\n",
              "      <th>agent</th>\n",
              "      <th>company</th>\n",
              "      <th>days_in_waiting_list</th>\n",
              "      <th>adr</th>\n",
              "      <th>required_car_parking_spaces</th>\n",
              "      <th>total_of_special_requests</th>\n",
              "    </tr>\n",
              "  </thead>\n",
              "  <tbody>\n",
              "    <tr>\n",
              "      <th>count</th>\n",
              "      <td>119390.000000</td>\n",
              "      <td>119390.000000</td>\n",
              "      <td>119390.000000</td>\n",
              "      <td>119390.000000</td>\n",
              "      <td>119390.000000</td>\n",
              "      <td>119390.000000</td>\n",
              "      <td>119390.000000</td>\n",
              "      <td>119390.000000</td>\n",
              "      <td>119386.000000</td>\n",
              "      <td>119390.000000</td>\n",
              "      <td>119390.000000</td>\n",
              "      <td>119390.000000</td>\n",
              "      <td>119390.000000</td>\n",
              "      <td>119390.000000</td>\n",
              "      <td>103050.000000</td>\n",
              "      <td>6797.000000</td>\n",
              "      <td>119390.000000</td>\n",
              "      <td>119390.000000</td>\n",
              "      <td>119390.000000</td>\n",
              "      <td>119390.000000</td>\n",
              "    </tr>\n",
              "    <tr>\n",
              "      <th>mean</th>\n",
              "      <td>0.370416</td>\n",
              "      <td>104.011416</td>\n",
              "      <td>2016.156554</td>\n",
              "      <td>27.165173</td>\n",
              "      <td>15.798241</td>\n",
              "      <td>0.927599</td>\n",
              "      <td>2.500302</td>\n",
              "      <td>1.856403</td>\n",
              "      <td>0.103890</td>\n",
              "      <td>0.007949</td>\n",
              "      <td>0.031912</td>\n",
              "      <td>0.087118</td>\n",
              "      <td>0.137097</td>\n",
              "      <td>0.221124</td>\n",
              "      <td>86.693382</td>\n",
              "      <td>189.266735</td>\n",
              "      <td>2.321149</td>\n",
              "      <td>101.831122</td>\n",
              "      <td>0.062518</td>\n",
              "      <td>0.571363</td>\n",
              "    </tr>\n",
              "    <tr>\n",
              "      <th>std</th>\n",
              "      <td>0.482918</td>\n",
              "      <td>106.863097</td>\n",
              "      <td>0.707476</td>\n",
              "      <td>13.605138</td>\n",
              "      <td>8.780829</td>\n",
              "      <td>0.998613</td>\n",
              "      <td>1.908286</td>\n",
              "      <td>0.579261</td>\n",
              "      <td>0.398561</td>\n",
              "      <td>0.097436</td>\n",
              "      <td>0.175767</td>\n",
              "      <td>0.844336</td>\n",
              "      <td>1.497437</td>\n",
              "      <td>0.652306</td>\n",
              "      <td>110.774548</td>\n",
              "      <td>131.655015</td>\n",
              "      <td>17.594721</td>\n",
              "      <td>50.535790</td>\n",
              "      <td>0.245291</td>\n",
              "      <td>0.792798</td>\n",
              "    </tr>\n",
              "    <tr>\n",
              "      <th>min</th>\n",
              "      <td>0.000000</td>\n",
              "      <td>0.000000</td>\n",
              "      <td>2015.000000</td>\n",
              "      <td>1.000000</td>\n",
              "      <td>1.000000</td>\n",
              "      <td>0.000000</td>\n",
              "      <td>0.000000</td>\n",
              "      <td>0.000000</td>\n",
              "      <td>0.000000</td>\n",
              "      <td>0.000000</td>\n",
              "      <td>0.000000</td>\n",
              "      <td>0.000000</td>\n",
              "      <td>0.000000</td>\n",
              "      <td>0.000000</td>\n",
              "      <td>1.000000</td>\n",
              "      <td>6.000000</td>\n",
              "      <td>0.000000</td>\n",
              "      <td>-6.380000</td>\n",
              "      <td>0.000000</td>\n",
              "      <td>0.000000</td>\n",
              "    </tr>\n",
              "    <tr>\n",
              "      <th>25%</th>\n",
              "      <td>0.000000</td>\n",
              "      <td>18.000000</td>\n",
              "      <td>2016.000000</td>\n",
              "      <td>16.000000</td>\n",
              "      <td>8.000000</td>\n",
              "      <td>0.000000</td>\n",
              "      <td>1.000000</td>\n",
              "      <td>2.000000</td>\n",
              "      <td>0.000000</td>\n",
              "      <td>0.000000</td>\n",
              "      <td>0.000000</td>\n",
              "      <td>0.000000</td>\n",
              "      <td>0.000000</td>\n",
              "      <td>0.000000</td>\n",
              "      <td>9.000000</td>\n",
              "      <td>62.000000</td>\n",
              "      <td>0.000000</td>\n",
              "      <td>69.290000</td>\n",
              "      <td>0.000000</td>\n",
              "      <td>0.000000</td>\n",
              "    </tr>\n",
              "    <tr>\n",
              "      <th>50%</th>\n",
              "      <td>0.000000</td>\n",
              "      <td>69.000000</td>\n",
              "      <td>2016.000000</td>\n",
              "      <td>28.000000</td>\n",
              "      <td>16.000000</td>\n",
              "      <td>1.000000</td>\n",
              "      <td>2.000000</td>\n",
              "      <td>2.000000</td>\n",
              "      <td>0.000000</td>\n",
              "      <td>0.000000</td>\n",
              "      <td>0.000000</td>\n",
              "      <td>0.000000</td>\n",
              "      <td>0.000000</td>\n",
              "      <td>0.000000</td>\n",
              "      <td>14.000000</td>\n",
              "      <td>179.000000</td>\n",
              "      <td>0.000000</td>\n",
              "      <td>94.575000</td>\n",
              "      <td>0.000000</td>\n",
              "      <td>0.000000</td>\n",
              "    </tr>\n",
              "    <tr>\n",
              "      <th>75%</th>\n",
              "      <td>1.000000</td>\n",
              "      <td>160.000000</td>\n",
              "      <td>2017.000000</td>\n",
              "      <td>38.000000</td>\n",
              "      <td>23.000000</td>\n",
              "      <td>2.000000</td>\n",
              "      <td>3.000000</td>\n",
              "      <td>2.000000</td>\n",
              "      <td>0.000000</td>\n",
              "      <td>0.000000</td>\n",
              "      <td>0.000000</td>\n",
              "      <td>0.000000</td>\n",
              "      <td>0.000000</td>\n",
              "      <td>0.000000</td>\n",
              "      <td>229.000000</td>\n",
              "      <td>270.000000</td>\n",
              "      <td>0.000000</td>\n",
              "      <td>126.000000</td>\n",
              "      <td>0.000000</td>\n",
              "      <td>1.000000</td>\n",
              "    </tr>\n",
              "    <tr>\n",
              "      <th>max</th>\n",
              "      <td>1.000000</td>\n",
              "      <td>737.000000</td>\n",
              "      <td>2017.000000</td>\n",
              "      <td>53.000000</td>\n",
              "      <td>31.000000</td>\n",
              "      <td>19.000000</td>\n",
              "      <td>50.000000</td>\n",
              "      <td>55.000000</td>\n",
              "      <td>10.000000</td>\n",
              "      <td>10.000000</td>\n",
              "      <td>1.000000</td>\n",
              "      <td>26.000000</td>\n",
              "      <td>72.000000</td>\n",
              "      <td>21.000000</td>\n",
              "      <td>535.000000</td>\n",
              "      <td>543.000000</td>\n",
              "      <td>391.000000</td>\n",
              "      <td>5400.000000</td>\n",
              "      <td>8.000000</td>\n",
              "      <td>5.000000</td>\n",
              "    </tr>\n",
              "  </tbody>\n",
              "</table>\n",
              "</div>\n",
              "      <button class=\"colab-df-convert\" onclick=\"convertToInteractive('df-bcbd8fc9-ff0a-42d3-8a16-4bc8dcce84c0')\"\n",
              "              title=\"Convert this dataframe to an interactive table.\"\n",
              "              style=\"display:none;\">\n",
              "        \n",
              "  <svg xmlns=\"http://www.w3.org/2000/svg\" height=\"24px\"viewBox=\"0 0 24 24\"\n",
              "       width=\"24px\">\n",
              "    <path d=\"M0 0h24v24H0V0z\" fill=\"none\"/>\n",
              "    <path d=\"M18.56 5.44l.94 2.06.94-2.06 2.06-.94-2.06-.94-.94-2.06-.94 2.06-2.06.94zm-11 1L8.5 8.5l.94-2.06 2.06-.94-2.06-.94L8.5 2.5l-.94 2.06-2.06.94zm10 10l.94 2.06.94-2.06 2.06-.94-2.06-.94-.94-2.06-.94 2.06-2.06.94z\"/><path d=\"M17.41 7.96l-1.37-1.37c-.4-.4-.92-.59-1.43-.59-.52 0-1.04.2-1.43.59L10.3 9.45l-7.72 7.72c-.78.78-.78 2.05 0 2.83L4 21.41c.39.39.9.59 1.41.59.51 0 1.02-.2 1.41-.59l7.78-7.78 2.81-2.81c.8-.78.8-2.07 0-2.86zM5.41 20L4 18.59l7.72-7.72 1.47 1.35L5.41 20z\"/>\n",
              "  </svg>\n",
              "      </button>\n",
              "      \n",
              "  <style>\n",
              "    .colab-df-container {\n",
              "      display:flex;\n",
              "      flex-wrap:wrap;\n",
              "      gap: 12px;\n",
              "    }\n",
              "\n",
              "    .colab-df-convert {\n",
              "      background-color: #E8F0FE;\n",
              "      border: none;\n",
              "      border-radius: 50%;\n",
              "      cursor: pointer;\n",
              "      display: none;\n",
              "      fill: #1967D2;\n",
              "      height: 32px;\n",
              "      padding: 0 0 0 0;\n",
              "      width: 32px;\n",
              "    }\n",
              "\n",
              "    .colab-df-convert:hover {\n",
              "      background-color: #E2EBFA;\n",
              "      box-shadow: 0px 1px 2px rgba(60, 64, 67, 0.3), 0px 1px 3px 1px rgba(60, 64, 67, 0.15);\n",
              "      fill: #174EA6;\n",
              "    }\n",
              "\n",
              "    [theme=dark] .colab-df-convert {\n",
              "      background-color: #3B4455;\n",
              "      fill: #D2E3FC;\n",
              "    }\n",
              "\n",
              "    [theme=dark] .colab-df-convert:hover {\n",
              "      background-color: #434B5C;\n",
              "      box-shadow: 0px 1px 3px 1px rgba(0, 0, 0, 0.15);\n",
              "      filter: drop-shadow(0px 1px 2px rgba(0, 0, 0, 0.3));\n",
              "      fill: #FFFFFF;\n",
              "    }\n",
              "  </style>\n",
              "\n",
              "      <script>\n",
              "        const buttonEl =\n",
              "          document.querySelector('#df-bcbd8fc9-ff0a-42d3-8a16-4bc8dcce84c0 button.colab-df-convert');\n",
              "        buttonEl.style.display =\n",
              "          google.colab.kernel.accessAllowed ? 'block' : 'none';\n",
              "\n",
              "        async function convertToInteractive(key) {\n",
              "          const element = document.querySelector('#df-bcbd8fc9-ff0a-42d3-8a16-4bc8dcce84c0');\n",
              "          const dataTable =\n",
              "            await google.colab.kernel.invokeFunction('convertToInteractive',\n",
              "                                                     [key], {});\n",
              "          if (!dataTable) return;\n",
              "\n",
              "          const docLinkHtml = 'Like what you see? Visit the ' +\n",
              "            '<a target=\"_blank\" href=https://colab.research.google.com/notebooks/data_table.ipynb>data table notebook</a>'\n",
              "            + ' to learn more about interactive tables.';\n",
              "          element.innerHTML = '';\n",
              "          dataTable['output_type'] = 'display_data';\n",
              "          await google.colab.output.renderOutput(dataTable, element);\n",
              "          const docLink = document.createElement('div');\n",
              "          docLink.innerHTML = docLinkHtml;\n",
              "          element.appendChild(docLink);\n",
              "        }\n",
              "      </script>\n",
              "    </div>\n",
              "  </div>\n",
              "  "
            ]
          },
          "metadata": {},
          "execution_count": 7
        }
      ]
    },
    {
      "cell_type": "code",
      "source": [
        "# we will create df_copy folder to copy the actual data frame without touching the actual data incase of need for actual dataframe.\n",
        "df_copy=df.copy()"
      ],
      "metadata": {
        "id": "PzvkSHdNmkPa"
      },
      "execution_count": null,
      "outputs": []
    },
    {
      "cell_type": "code",
      "source": [
        "# Droping Duplicate Values we get , first check Duplicate then clear all the Duplicate values in it.\n",
        "df_copy[df_copy.duplicated()].count()"
      ],
      "metadata": {
        "colab": {
          "base_uri": "https://localhost:8080/"
        },
        "id": "cN16_hShj9ND",
        "outputId": "c8c1be99-8199-4efd-ebe9-9c53c1d136af"
      },
      "execution_count": null,
      "outputs": [
        {
          "output_type": "execute_result",
          "data": {
            "text/plain": [
              "hotel                             31994\n",
              "is_canceled                       31994\n",
              "lead_time                         31994\n",
              "arrival_date_year                 31994\n",
              "arrival_date_month                31994\n",
              "arrival_date_week_number          31994\n",
              "arrival_date_day_of_month         31994\n",
              "stays_in_weekend_nights           31994\n",
              "stays_in_week_nights              31994\n",
              "adults                            31994\n",
              "children                          31994\n",
              "babies                            31994\n",
              "meal                              31994\n",
              "country                           31958\n",
              "market_segment                    31994\n",
              "distribution_channel              31994\n",
              "is_repeated_guest                 31994\n",
              "previous_cancellations            31994\n",
              "previous_bookings_not_canceled    31994\n",
              "reserved_room_type                31994\n",
              "assigned_room_type                31994\n",
              "booking_changes                   31994\n",
              "deposit_type                      31994\n",
              "agent                             27847\n",
              "company                            1538\n",
              "days_in_waiting_list              31994\n",
              "customer_type                     31994\n",
              "adr                               31994\n",
              "required_car_parking_spaces       31994\n",
              "total_of_special_requests         31994\n",
              "reservation_status                31994\n",
              "reservation_status_date           31994\n",
              "dtype: int64"
            ]
          },
          "metadata": {},
          "execution_count": 9
        }
      ]
    },
    {
      "cell_type": "code",
      "source": [
        "df_copy[df_copy.duplicated()].shape"
      ],
      "metadata": {
        "colab": {
          "base_uri": "https://localhost:8080/"
        },
        "id": "hg2JDzLplQOj",
        "outputId": "7c86a87f-898b-44cc-abb3-cd9de5da6d3e"
      },
      "execution_count": null,
      "outputs": [
        {
          "output_type": "execute_result",
          "data": {
            "text/plain": [
              "(31994, 32)"
            ]
          },
          "metadata": {},
          "execution_count": 10
        }
      ]
    },
    {
      "cell_type": "code",
      "source": [
        "# Delete Duplicate value\n",
        "df_copy.drop_duplicates(inplace=True)"
      ],
      "metadata": {
        "id": "pNtD5UjclpJb"
      },
      "execution_count": null,
      "outputs": []
    },
    {
      "cell_type": "code",
      "source": [
        "# we will create df_copy folder to copy the actual data frame without touching the actual data incase of need for actual dataframe.\n",
        "df_copy.shape"
      ],
      "metadata": {
        "colab": {
          "base_uri": "https://localhost:8080/"
        },
        "id": "Ql4MBbreec4l",
        "outputId": "f85eb77d-eb1e-4032-9ac1-e05c88c09692"
      },
      "execution_count": null,
      "outputs": [
        {
          "output_type": "execute_result",
          "data": {
            "text/plain": [
              "(87396, 32)"
            ]
          },
          "metadata": {},
          "execution_count": 12
        }
      ]
    },
    {
      "cell_type": "code",
      "source": [
        "\n"
      ],
      "metadata": {
        "id": "WcgVOyatykI-"
      },
      "execution_count": null,
      "outputs": []
    },
    {
      "cell_type": "code",
      "source": [
        "# Analysing the above dataframe info & Description it is clear that only 'children','country','agent','company' have nullvalues in it.\n",
        "df_copy[['children','country','agent','company']].isnull()"
      ],
      "metadata": {
        "colab": {
          "base_uri": "https://localhost:8080/",
          "height": 424
        },
        "id": "MnFCNHsNemRM",
        "outputId": "e55ef060-6214-4acd-aaab-58fffac9d2ad"
      },
      "execution_count": null,
      "outputs": [
        {
          "output_type": "execute_result",
          "data": {
            "text/plain": [
              "        children  country  agent  company\n",
              "0          False    False   True     True\n",
              "1          False    False   True     True\n",
              "2          False    False   True     True\n",
              "3          False    False  False     True\n",
              "4          False    False  False     True\n",
              "...          ...      ...    ...      ...\n",
              "119385     False    False  False     True\n",
              "119386     False    False  False     True\n",
              "119387     False    False  False     True\n",
              "119388     False    False  False     True\n",
              "119389     False    False  False     True\n",
              "\n",
              "[87396 rows x 4 columns]"
            ],
            "text/html": [
              "\n",
              "  <div id=\"df-01f8db9c-71fa-4049-8968-d18dfde4f488\">\n",
              "    <div class=\"colab-df-container\">\n",
              "      <div>\n",
              "<style scoped>\n",
              "    .dataframe tbody tr th:only-of-type {\n",
              "        vertical-align: middle;\n",
              "    }\n",
              "\n",
              "    .dataframe tbody tr th {\n",
              "        vertical-align: top;\n",
              "    }\n",
              "\n",
              "    .dataframe thead th {\n",
              "        text-align: right;\n",
              "    }\n",
              "</style>\n",
              "<table border=\"1\" class=\"dataframe\">\n",
              "  <thead>\n",
              "    <tr style=\"text-align: right;\">\n",
              "      <th></th>\n",
              "      <th>children</th>\n",
              "      <th>country</th>\n",
              "      <th>agent</th>\n",
              "      <th>company</th>\n",
              "    </tr>\n",
              "  </thead>\n",
              "  <tbody>\n",
              "    <tr>\n",
              "      <th>0</th>\n",
              "      <td>False</td>\n",
              "      <td>False</td>\n",
              "      <td>True</td>\n",
              "      <td>True</td>\n",
              "    </tr>\n",
              "    <tr>\n",
              "      <th>1</th>\n",
              "      <td>False</td>\n",
              "      <td>False</td>\n",
              "      <td>True</td>\n",
              "      <td>True</td>\n",
              "    </tr>\n",
              "    <tr>\n",
              "      <th>2</th>\n",
              "      <td>False</td>\n",
              "      <td>False</td>\n",
              "      <td>True</td>\n",
              "      <td>True</td>\n",
              "    </tr>\n",
              "    <tr>\n",
              "      <th>3</th>\n",
              "      <td>False</td>\n",
              "      <td>False</td>\n",
              "      <td>False</td>\n",
              "      <td>True</td>\n",
              "    </tr>\n",
              "    <tr>\n",
              "      <th>4</th>\n",
              "      <td>False</td>\n",
              "      <td>False</td>\n",
              "      <td>False</td>\n",
              "      <td>True</td>\n",
              "    </tr>\n",
              "    <tr>\n",
              "      <th>...</th>\n",
              "      <td>...</td>\n",
              "      <td>...</td>\n",
              "      <td>...</td>\n",
              "      <td>...</td>\n",
              "    </tr>\n",
              "    <tr>\n",
              "      <th>119385</th>\n",
              "      <td>False</td>\n",
              "      <td>False</td>\n",
              "      <td>False</td>\n",
              "      <td>True</td>\n",
              "    </tr>\n",
              "    <tr>\n",
              "      <th>119386</th>\n",
              "      <td>False</td>\n",
              "      <td>False</td>\n",
              "      <td>False</td>\n",
              "      <td>True</td>\n",
              "    </tr>\n",
              "    <tr>\n",
              "      <th>119387</th>\n",
              "      <td>False</td>\n",
              "      <td>False</td>\n",
              "      <td>False</td>\n",
              "      <td>True</td>\n",
              "    </tr>\n",
              "    <tr>\n",
              "      <th>119388</th>\n",
              "      <td>False</td>\n",
              "      <td>False</td>\n",
              "      <td>False</td>\n",
              "      <td>True</td>\n",
              "    </tr>\n",
              "    <tr>\n",
              "      <th>119389</th>\n",
              "      <td>False</td>\n",
              "      <td>False</td>\n",
              "      <td>False</td>\n",
              "      <td>True</td>\n",
              "    </tr>\n",
              "  </tbody>\n",
              "</table>\n",
              "<p>87396 rows × 4 columns</p>\n",
              "</div>\n",
              "      <button class=\"colab-df-convert\" onclick=\"convertToInteractive('df-01f8db9c-71fa-4049-8968-d18dfde4f488')\"\n",
              "              title=\"Convert this dataframe to an interactive table.\"\n",
              "              style=\"display:none;\">\n",
              "        \n",
              "  <svg xmlns=\"http://www.w3.org/2000/svg\" height=\"24px\"viewBox=\"0 0 24 24\"\n",
              "       width=\"24px\">\n",
              "    <path d=\"M0 0h24v24H0V0z\" fill=\"none\"/>\n",
              "    <path d=\"M18.56 5.44l.94 2.06.94-2.06 2.06-.94-2.06-.94-.94-2.06-.94 2.06-2.06.94zm-11 1L8.5 8.5l.94-2.06 2.06-.94-2.06-.94L8.5 2.5l-.94 2.06-2.06.94zm10 10l.94 2.06.94-2.06 2.06-.94-2.06-.94-.94-2.06-.94 2.06-2.06.94z\"/><path d=\"M17.41 7.96l-1.37-1.37c-.4-.4-.92-.59-1.43-.59-.52 0-1.04.2-1.43.59L10.3 9.45l-7.72 7.72c-.78.78-.78 2.05 0 2.83L4 21.41c.39.39.9.59 1.41.59.51 0 1.02-.2 1.41-.59l7.78-7.78 2.81-2.81c.8-.78.8-2.07 0-2.86zM5.41 20L4 18.59l7.72-7.72 1.47 1.35L5.41 20z\"/>\n",
              "  </svg>\n",
              "      </button>\n",
              "      \n",
              "  <style>\n",
              "    .colab-df-container {\n",
              "      display:flex;\n",
              "      flex-wrap:wrap;\n",
              "      gap: 12px;\n",
              "    }\n",
              "\n",
              "    .colab-df-convert {\n",
              "      background-color: #E8F0FE;\n",
              "      border: none;\n",
              "      border-radius: 50%;\n",
              "      cursor: pointer;\n",
              "      display: none;\n",
              "      fill: #1967D2;\n",
              "      height: 32px;\n",
              "      padding: 0 0 0 0;\n",
              "      width: 32px;\n",
              "    }\n",
              "\n",
              "    .colab-df-convert:hover {\n",
              "      background-color: #E2EBFA;\n",
              "      box-shadow: 0px 1px 2px rgba(60, 64, 67, 0.3), 0px 1px 3px 1px rgba(60, 64, 67, 0.15);\n",
              "      fill: #174EA6;\n",
              "    }\n",
              "\n",
              "    [theme=dark] .colab-df-convert {\n",
              "      background-color: #3B4455;\n",
              "      fill: #D2E3FC;\n",
              "    }\n",
              "\n",
              "    [theme=dark] .colab-df-convert:hover {\n",
              "      background-color: #434B5C;\n",
              "      box-shadow: 0px 1px 3px 1px rgba(0, 0, 0, 0.15);\n",
              "      filter: drop-shadow(0px 1px 2px rgba(0, 0, 0, 0.3));\n",
              "      fill: #FFFFFF;\n",
              "    }\n",
              "  </style>\n",
              "\n",
              "      <script>\n",
              "        const buttonEl =\n",
              "          document.querySelector('#df-01f8db9c-71fa-4049-8968-d18dfde4f488 button.colab-df-convert');\n",
              "        buttonEl.style.display =\n",
              "          google.colab.kernel.accessAllowed ? 'block' : 'none';\n",
              "\n",
              "        async function convertToInteractive(key) {\n",
              "          const element = document.querySelector('#df-01f8db9c-71fa-4049-8968-d18dfde4f488');\n",
              "          const dataTable =\n",
              "            await google.colab.kernel.invokeFunction('convertToInteractive',\n",
              "                                                     [key], {});\n",
              "          if (!dataTable) return;\n",
              "\n",
              "          const docLinkHtml = 'Like what you see? Visit the ' +\n",
              "            '<a target=\"_blank\" href=https://colab.research.google.com/notebooks/data_table.ipynb>data table notebook</a>'\n",
              "            + ' to learn more about interactive tables.';\n",
              "          element.innerHTML = '';\n",
              "          dataTable['output_type'] = 'display_data';\n",
              "          await google.colab.output.renderOutput(dataTable, element);\n",
              "          const docLink = document.createElement('div');\n",
              "          docLink.innerHTML = docLinkHtml;\n",
              "          element.appendChild(docLink);\n",
              "        }\n",
              "      </script>\n",
              "    </div>\n",
              "  </div>\n",
              "  "
            ]
          },
          "metadata": {},
          "execution_count": 13
        }
      ]
    },
    {
      "cell_type": "code",
      "source": [
        "# check the null values in columns , so it wont cause any problem later for fetching and calculation in dataframe.\n",
        "df_copy[['children','country','agent','company']].isnull().sum()"
      ],
      "metadata": {
        "colab": {
          "base_uri": "https://localhost:8080/"
        },
        "id": "EH8OoOlRny1a",
        "outputId": "d62f2d46-ef7b-4507-e0ef-752eb1d83e7e"
      },
      "execution_count": null,
      "outputs": [
        {
          "output_type": "execute_result",
          "data": {
            "text/plain": [
              "children        4\n",
              "country       452\n",
              "agent       12193\n",
              "company     82137\n",
              "dtype: int64"
            ]
          },
          "metadata": {},
          "execution_count": 14
        }
      ]
    },
    {
      "cell_type": "markdown",
      "source": [],
      "metadata": {
        "id": "2Dv0IVBATFan"
      }
    },
    {
      "cell_type": "code",
      "source": [
        "#For children\n",
        "df_copy['children'].fillna(df_copy['children'].mean(),inplace=True)"
      ],
      "metadata": {
        "id": "mg0GiNKi1SaG"
      },
      "execution_count": null,
      "outputs": []
    },
    {
      "cell_type": "code",
      "source": [
        "#For country\n",
        "df_copy['country'].fillna('Other',inplace=True)"
      ],
      "metadata": {
        "id": "iKXtbQCT43pm"
      },
      "execution_count": null,
      "outputs": []
    },
    {
      "cell_type": "code",
      "source": [
        "#For agent\n",
        "df_copy['agent'].fillna(0,inplace=True)\n"
      ],
      "metadata": {
        "id": "yMxyvhzbDtYB"
      },
      "execution_count": null,
      "outputs": []
    },
    {
      "cell_type": "code",
      "source": [
        "#For company\n",
        "df_copy['company'].fillna(0,inplace=True)\n"
      ],
      "metadata": {
        "id": "RmxdxsscEi6R"
      },
      "execution_count": null,
      "outputs": []
    },
    {
      "cell_type": "markdown",
      "source": [
        "Check for null values for the confirmation as below."
      ],
      "metadata": {
        "id": "hhAf-5n1VjVa"
      }
    },
    {
      "cell_type": "code",
      "source": [
        "df_copy[['children','country','agent','company']].isnull().sum()"
      ],
      "metadata": {
        "id": "6jB-cKdID4LJ",
        "colab": {
          "base_uri": "https://localhost:8080/"
        },
        "outputId": "8e334e86-fc65-4acf-d4be-c6db8af44ad5"
      },
      "execution_count": null,
      "outputs": [
        {
          "output_type": "execute_result",
          "data": {
            "text/plain": [
              "children    0\n",
              "country     0\n",
              "agent       0\n",
              "company     0\n",
              "dtype: int64"
            ]
          },
          "metadata": {},
          "execution_count": 19
        }
      ]
    },
    {
      "cell_type": "markdown",
      "source": [
        "Now lets check wether all the rows are fullfilled"
      ],
      "metadata": {
        "id": "OJLcAahJVrJa"
      }
    },
    {
      "cell_type": "code",
      "source": [
        "from operator import index\n",
        "df_copy.drop(df_copy.index[df_copy['children']+df_copy['adults']+df_copy['babies']==0],inplace=True)"
      ],
      "metadata": {
        "id": "yr2vgFBxitB8"
      },
      "execution_count": null,
      "outputs": []
    },
    {
      "cell_type": "code",
      "source": [
        "df_copy.shape"
      ],
      "metadata": {
        "colab": {
          "base_uri": "https://localhost:8080/"
        },
        "id": "q79jo8Mddbdw",
        "outputId": "d87d3942-9245-4b65-9de2-2d16e3c3d34a"
      },
      "execution_count": null,
      "outputs": [
        {
          "output_type": "execute_result",
          "data": {
            "text/plain": [
              "(87230, 32)"
            ]
          },
          "metadata": {},
          "execution_count": 21
        }
      ]
    },
    {
      "cell_type": "code",
      "source": [
        "df_copy.info()"
      ],
      "metadata": {
        "colab": {
          "base_uri": "https://localhost:8080/"
        },
        "id": "k36BbCiSd08w",
        "outputId": "8089b0c6-9040-48fb-db7a-7845c519ec19"
      },
      "execution_count": null,
      "outputs": [
        {
          "output_type": "stream",
          "name": "stdout",
          "text": [
            "<class 'pandas.core.frame.DataFrame'>\n",
            "Int64Index: 87230 entries, 0 to 119389\n",
            "Data columns (total 32 columns):\n",
            " #   Column                          Non-Null Count  Dtype  \n",
            "---  ------                          --------------  -----  \n",
            " 0   hotel                           87230 non-null  object \n",
            " 1   is_canceled                     87230 non-null  int64  \n",
            " 2   lead_time                       87230 non-null  int64  \n",
            " 3   arrival_date_year               87230 non-null  int64  \n",
            " 4   arrival_date_month              87230 non-null  object \n",
            " 5   arrival_date_week_number        87230 non-null  int64  \n",
            " 6   arrival_date_day_of_month       87230 non-null  int64  \n",
            " 7   stays_in_weekend_nights         87230 non-null  int64  \n",
            " 8   stays_in_week_nights            87230 non-null  int64  \n",
            " 9   adults                          87230 non-null  int64  \n",
            " 10  children                        87230 non-null  float64\n",
            " 11  babies                          87230 non-null  int64  \n",
            " 12  meal                            87230 non-null  object \n",
            " 13  country                         87230 non-null  object \n",
            " 14  market_segment                  87230 non-null  object \n",
            " 15  distribution_channel            87230 non-null  object \n",
            " 16  is_repeated_guest               87230 non-null  int64  \n",
            " 17  previous_cancellations          87230 non-null  int64  \n",
            " 18  previous_bookings_not_canceled  87230 non-null  int64  \n",
            " 19  reserved_room_type              87230 non-null  object \n",
            " 20  assigned_room_type              87230 non-null  object \n",
            " 21  booking_changes                 87230 non-null  int64  \n",
            " 22  deposit_type                    87230 non-null  object \n",
            " 23  agent                           87230 non-null  float64\n",
            " 24  company                         87230 non-null  float64\n",
            " 25  days_in_waiting_list            87230 non-null  int64  \n",
            " 26  customer_type                   87230 non-null  object \n",
            " 27  adr                             87230 non-null  float64\n",
            " 28  required_car_parking_spaces     87230 non-null  int64  \n",
            " 29  total_of_special_requests       87230 non-null  int64  \n",
            " 30  reservation_status              87230 non-null  object \n",
            " 31  reservation_status_date         87230 non-null  object \n",
            "dtypes: float64(4), int64(16), object(12)\n",
            "memory usage: 22.0+ MB\n"
          ]
        }
      ]
    },
    {
      "cell_type": "markdown",
      "source": [
        "Date change column datatype with suitable Dtype"
      ],
      "metadata": {
        "id": "NsY2i7KqjBLG"
      }
    },
    {
      "cell_type": "code",
      "source": [
        "from datetime import datetime\n",
        "df_copy['children'],df_copy['agent'],df_copy['reservation_status_date']=df_copy['children'].astype(int),df_copy['agent'].astype(int),df_copy['reservation_status_date'].astype(np.datetime64)"
      ],
      "metadata": {
        "id": "cKpJg8Xhi9r4"
      },
      "execution_count": null,
      "outputs": []
    },
    {
      "cell_type": "code",
      "source": [
        "df_copy.info()"
      ],
      "metadata": {
        "colab": {
          "base_uri": "https://localhost:8080/"
        },
        "id": "iqep2lYTu1J0",
        "outputId": "9cf7fe2a-fded-416f-edb5-4bf74dba0a26"
      },
      "execution_count": null,
      "outputs": [
        {
          "output_type": "stream",
          "name": "stdout",
          "text": [
            "<class 'pandas.core.frame.DataFrame'>\n",
            "Int64Index: 87230 entries, 0 to 119389\n",
            "Data columns (total 32 columns):\n",
            " #   Column                          Non-Null Count  Dtype         \n",
            "---  ------                          --------------  -----         \n",
            " 0   hotel                           87230 non-null  object        \n",
            " 1   is_canceled                     87230 non-null  int64         \n",
            " 2   lead_time                       87230 non-null  int64         \n",
            " 3   arrival_date_year               87230 non-null  int64         \n",
            " 4   arrival_date_month              87230 non-null  object        \n",
            " 5   arrival_date_week_number        87230 non-null  int64         \n",
            " 6   arrival_date_day_of_month       87230 non-null  int64         \n",
            " 7   stays_in_weekend_nights         87230 non-null  int64         \n",
            " 8   stays_in_week_nights            87230 non-null  int64         \n",
            " 9   adults                          87230 non-null  int64         \n",
            " 10  children                        87230 non-null  int64         \n",
            " 11  babies                          87230 non-null  int64         \n",
            " 12  meal                            87230 non-null  object        \n",
            " 13  country                         87230 non-null  object        \n",
            " 14  market_segment                  87230 non-null  object        \n",
            " 15  distribution_channel            87230 non-null  object        \n",
            " 16  is_repeated_guest               87230 non-null  int64         \n",
            " 17  previous_cancellations          87230 non-null  int64         \n",
            " 18  previous_bookings_not_canceled  87230 non-null  int64         \n",
            " 19  reserved_room_type              87230 non-null  object        \n",
            " 20  assigned_room_type              87230 non-null  object        \n",
            " 21  booking_changes                 87230 non-null  int64         \n",
            " 22  deposit_type                    87230 non-null  object        \n",
            " 23  agent                           87230 non-null  int64         \n",
            " 24  company                         87230 non-null  float64       \n",
            " 25  days_in_waiting_list            87230 non-null  int64         \n",
            " 26  customer_type                   87230 non-null  object        \n",
            " 27  adr                             87230 non-null  float64       \n",
            " 28  required_car_parking_spaces     87230 non-null  int64         \n",
            " 29  total_of_special_requests       87230 non-null  int64         \n",
            " 30  reservation_status              87230 non-null  object        \n",
            " 31  reservation_status_date         87230 non-null  datetime64[ns]\n",
            "dtypes: datetime64[ns](1), float64(2), int64(18), object(11)\n",
            "memory usage: 22.0+ MB\n"
          ]
        }
      ]
    },
    {
      "cell_type": "markdown",
      "source": [
        "Best time of year to book a hotel room ."
      ],
      "metadata": {
        "id": "yIDikGn85uMG"
      }
    },
    {
      "cell_type": "code",
      "source": [
        "df_copy[['lead_time','adults','children','adr','agent','hotel']][df['children']==1]"
      ],
      "metadata": {
        "colab": {
          "base_uri": "https://localhost:8080/",
          "height": 458
        },
        "id": "cTrRmYP32zd_",
        "outputId": "5118368f-0458-4c05-a840-856b78b7f04a"
      },
      "execution_count": null,
      "outputs": [
        {
          "output_type": "stream",
          "name": "stderr",
          "text": [
            "/usr/local/lib/python3.7/dist-packages/ipykernel_launcher.py:1: UserWarning: Boolean Series key will be reindexed to match DataFrame index.\n",
            "  \"\"\"Entry point for launching an IPython kernel.\n"
          ]
        },
        {
          "output_type": "execute_result",
          "data": {
            "text/plain": [
              "        lead_time  adults  children     adr  agent         hotel\n",
              "13             18       2         1  154.77    241  Resort Hotel\n",
              "87             79       2         1  108.73    242  Resort Hotel\n",
              "98            101       2         1   99.30    240  Resort Hotel\n",
              "118            79       2         1  149.00    250  Resort Hotel\n",
              "143           109       2         1   85.59    241  Resort Hotel\n",
              "...           ...     ...       ...     ...    ...           ...\n",
              "119162        171       2         1  180.00     14    City Hotel\n",
              "119228        341       2         1   96.91     22    City Hotel\n",
              "119270          0       2         1  135.00      9    City Hotel\n",
              "119287        167       2         1  177.75      9    City Hotel\n",
              "119318        160       2         1  153.90      9    City Hotel\n",
              "\n",
              "[4695 rows x 6 columns]"
            ],
            "text/html": [
              "\n",
              "  <div id=\"df-ae5a3360-44fb-475b-95e8-ee4f7ca9789c\">\n",
              "    <div class=\"colab-df-container\">\n",
              "      <div>\n",
              "<style scoped>\n",
              "    .dataframe tbody tr th:only-of-type {\n",
              "        vertical-align: middle;\n",
              "    }\n",
              "\n",
              "    .dataframe tbody tr th {\n",
              "        vertical-align: top;\n",
              "    }\n",
              "\n",
              "    .dataframe thead th {\n",
              "        text-align: right;\n",
              "    }\n",
              "</style>\n",
              "<table border=\"1\" class=\"dataframe\">\n",
              "  <thead>\n",
              "    <tr style=\"text-align: right;\">\n",
              "      <th></th>\n",
              "      <th>lead_time</th>\n",
              "      <th>adults</th>\n",
              "      <th>children</th>\n",
              "      <th>adr</th>\n",
              "      <th>agent</th>\n",
              "      <th>hotel</th>\n",
              "    </tr>\n",
              "  </thead>\n",
              "  <tbody>\n",
              "    <tr>\n",
              "      <th>13</th>\n",
              "      <td>18</td>\n",
              "      <td>2</td>\n",
              "      <td>1</td>\n",
              "      <td>154.77</td>\n",
              "      <td>241</td>\n",
              "      <td>Resort Hotel</td>\n",
              "    </tr>\n",
              "    <tr>\n",
              "      <th>87</th>\n",
              "      <td>79</td>\n",
              "      <td>2</td>\n",
              "      <td>1</td>\n",
              "      <td>108.73</td>\n",
              "      <td>242</td>\n",
              "      <td>Resort Hotel</td>\n",
              "    </tr>\n",
              "    <tr>\n",
              "      <th>98</th>\n",
              "      <td>101</td>\n",
              "      <td>2</td>\n",
              "      <td>1</td>\n",
              "      <td>99.30</td>\n",
              "      <td>240</td>\n",
              "      <td>Resort Hotel</td>\n",
              "    </tr>\n",
              "    <tr>\n",
              "      <th>118</th>\n",
              "      <td>79</td>\n",
              "      <td>2</td>\n",
              "      <td>1</td>\n",
              "      <td>149.00</td>\n",
              "      <td>250</td>\n",
              "      <td>Resort Hotel</td>\n",
              "    </tr>\n",
              "    <tr>\n",
              "      <th>143</th>\n",
              "      <td>109</td>\n",
              "      <td>2</td>\n",
              "      <td>1</td>\n",
              "      <td>85.59</td>\n",
              "      <td>241</td>\n",
              "      <td>Resort Hotel</td>\n",
              "    </tr>\n",
              "    <tr>\n",
              "      <th>...</th>\n",
              "      <td>...</td>\n",
              "      <td>...</td>\n",
              "      <td>...</td>\n",
              "      <td>...</td>\n",
              "      <td>...</td>\n",
              "      <td>...</td>\n",
              "    </tr>\n",
              "    <tr>\n",
              "      <th>119162</th>\n",
              "      <td>171</td>\n",
              "      <td>2</td>\n",
              "      <td>1</td>\n",
              "      <td>180.00</td>\n",
              "      <td>14</td>\n",
              "      <td>City Hotel</td>\n",
              "    </tr>\n",
              "    <tr>\n",
              "      <th>119228</th>\n",
              "      <td>341</td>\n",
              "      <td>2</td>\n",
              "      <td>1</td>\n",
              "      <td>96.91</td>\n",
              "      <td>22</td>\n",
              "      <td>City Hotel</td>\n",
              "    </tr>\n",
              "    <tr>\n",
              "      <th>119270</th>\n",
              "      <td>0</td>\n",
              "      <td>2</td>\n",
              "      <td>1</td>\n",
              "      <td>135.00</td>\n",
              "      <td>9</td>\n",
              "      <td>City Hotel</td>\n",
              "    </tr>\n",
              "    <tr>\n",
              "      <th>119287</th>\n",
              "      <td>167</td>\n",
              "      <td>2</td>\n",
              "      <td>1</td>\n",
              "      <td>177.75</td>\n",
              "      <td>9</td>\n",
              "      <td>City Hotel</td>\n",
              "    </tr>\n",
              "    <tr>\n",
              "      <th>119318</th>\n",
              "      <td>160</td>\n",
              "      <td>2</td>\n",
              "      <td>1</td>\n",
              "      <td>153.90</td>\n",
              "      <td>9</td>\n",
              "      <td>City Hotel</td>\n",
              "    </tr>\n",
              "  </tbody>\n",
              "</table>\n",
              "<p>4695 rows × 6 columns</p>\n",
              "</div>\n",
              "      <button class=\"colab-df-convert\" onclick=\"convertToInteractive('df-ae5a3360-44fb-475b-95e8-ee4f7ca9789c')\"\n",
              "              title=\"Convert this dataframe to an interactive table.\"\n",
              "              style=\"display:none;\">\n",
              "        \n",
              "  <svg xmlns=\"http://www.w3.org/2000/svg\" height=\"24px\"viewBox=\"0 0 24 24\"\n",
              "       width=\"24px\">\n",
              "    <path d=\"M0 0h24v24H0V0z\" fill=\"none\"/>\n",
              "    <path d=\"M18.56 5.44l.94 2.06.94-2.06 2.06-.94-2.06-.94-.94-2.06-.94 2.06-2.06.94zm-11 1L8.5 8.5l.94-2.06 2.06-.94-2.06-.94L8.5 2.5l-.94 2.06-2.06.94zm10 10l.94 2.06.94-2.06 2.06-.94-2.06-.94-.94-2.06-.94 2.06-2.06.94z\"/><path d=\"M17.41 7.96l-1.37-1.37c-.4-.4-.92-.59-1.43-.59-.52 0-1.04.2-1.43.59L10.3 9.45l-7.72 7.72c-.78.78-.78 2.05 0 2.83L4 21.41c.39.39.9.59 1.41.59.51 0 1.02-.2 1.41-.59l7.78-7.78 2.81-2.81c.8-.78.8-2.07 0-2.86zM5.41 20L4 18.59l7.72-7.72 1.47 1.35L5.41 20z\"/>\n",
              "  </svg>\n",
              "      </button>\n",
              "      \n",
              "  <style>\n",
              "    .colab-df-container {\n",
              "      display:flex;\n",
              "      flex-wrap:wrap;\n",
              "      gap: 12px;\n",
              "    }\n",
              "\n",
              "    .colab-df-convert {\n",
              "      background-color: #E8F0FE;\n",
              "      border: none;\n",
              "      border-radius: 50%;\n",
              "      cursor: pointer;\n",
              "      display: none;\n",
              "      fill: #1967D2;\n",
              "      height: 32px;\n",
              "      padding: 0 0 0 0;\n",
              "      width: 32px;\n",
              "    }\n",
              "\n",
              "    .colab-df-convert:hover {\n",
              "      background-color: #E2EBFA;\n",
              "      box-shadow: 0px 1px 2px rgba(60, 64, 67, 0.3), 0px 1px 3px 1px rgba(60, 64, 67, 0.15);\n",
              "      fill: #174EA6;\n",
              "    }\n",
              "\n",
              "    [theme=dark] .colab-df-convert {\n",
              "      background-color: #3B4455;\n",
              "      fill: #D2E3FC;\n",
              "    }\n",
              "\n",
              "    [theme=dark] .colab-df-convert:hover {\n",
              "      background-color: #434B5C;\n",
              "      box-shadow: 0px 1px 3px 1px rgba(0, 0, 0, 0.15);\n",
              "      filter: drop-shadow(0px 1px 2px rgba(0, 0, 0, 0.3));\n",
              "      fill: #FFFFFF;\n",
              "    }\n",
              "  </style>\n",
              "\n",
              "      <script>\n",
              "        const buttonEl =\n",
              "          document.querySelector('#df-ae5a3360-44fb-475b-95e8-ee4f7ca9789c button.colab-df-convert');\n",
              "        buttonEl.style.display =\n",
              "          google.colab.kernel.accessAllowed ? 'block' : 'none';\n",
              "\n",
              "        async function convertToInteractive(key) {\n",
              "          const element = document.querySelector('#df-ae5a3360-44fb-475b-95e8-ee4f7ca9789c');\n",
              "          const dataTable =\n",
              "            await google.colab.kernel.invokeFunction('convertToInteractive',\n",
              "                                                     [key], {});\n",
              "          if (!dataTable) return;\n",
              "\n",
              "          const docLinkHtml = 'Like what you see? Visit the ' +\n",
              "            '<a target=\"_blank\" href=https://colab.research.google.com/notebooks/data_table.ipynb>data table notebook</a>'\n",
              "            + ' to learn more about interactive tables.';\n",
              "          element.innerHTML = '';\n",
              "          dataTable['output_type'] = 'display_data';\n",
              "          await google.colab.output.renderOutput(dataTable, element);\n",
              "          const docLink = document.createElement('div');\n",
              "          docLink.innerHTML = docLinkHtml;\n",
              "          element.appendChild(docLink);\n",
              "        }\n",
              "      </script>\n",
              "    </div>\n",
              "  </div>\n",
              "  "
            ]
          },
          "metadata": {},
          "execution_count": 25
        }
      ]
    },
    {
      "cell_type": "code",
      "source": [
        "#Best time of year to book a hotel ?\n",
        "df_copy['arrival_date_year'].unique()"
      ],
      "metadata": {
        "colab": {
          "base_uri": "https://localhost:8080/"
        },
        "id": "kdXYMjJIKsLp",
        "outputId": "8394aef3-4321-4921-dccc-b5b090e136b1"
      },
      "execution_count": null,
      "outputs": [
        {
          "output_type": "execute_result",
          "data": {
            "text/plain": [
              "array([2015, 2016, 2017])"
            ]
          },
          "metadata": {},
          "execution_count": 26
        }
      ]
    },
    {
      "cell_type": "code",
      "source": [
        "Highest_profitable_year=pd.DataFrame(df_copy.groupby(['arrival_date_year']).agg({'adr':'sum'}).sort_values(by='adr',ascending=False)).reset_index()\n",
        "Highest_profitable_year"
      ],
      "metadata": {
        "colab": {
          "base_uri": "https://localhost:8080/",
          "height": 143
        },
        "id": "k4FzyMEQtJb1",
        "outputId": "458ef992-ec20-4cee-c412-a0fb9a89a1b3"
      },
      "execution_count": null,
      "outputs": [
        {
          "output_type": "execute_result",
          "data": {
            "text/plain": [
              "   arrival_date_year         adr\n",
              "0               2016  4303105.84\n",
              "1               2017  3761531.89\n",
              "2               2015  1226930.09"
            ],
            "text/html": [
              "\n",
              "  <div id=\"df-4eea263a-fe73-4b9c-8afb-fe944e648be4\">\n",
              "    <div class=\"colab-df-container\">\n",
              "      <div>\n",
              "<style scoped>\n",
              "    .dataframe tbody tr th:only-of-type {\n",
              "        vertical-align: middle;\n",
              "    }\n",
              "\n",
              "    .dataframe tbody tr th {\n",
              "        vertical-align: top;\n",
              "    }\n",
              "\n",
              "    .dataframe thead th {\n",
              "        text-align: right;\n",
              "    }\n",
              "</style>\n",
              "<table border=\"1\" class=\"dataframe\">\n",
              "  <thead>\n",
              "    <tr style=\"text-align: right;\">\n",
              "      <th></th>\n",
              "      <th>arrival_date_year</th>\n",
              "      <th>adr</th>\n",
              "    </tr>\n",
              "  </thead>\n",
              "  <tbody>\n",
              "    <tr>\n",
              "      <th>0</th>\n",
              "      <td>2016</td>\n",
              "      <td>4303105.84</td>\n",
              "    </tr>\n",
              "    <tr>\n",
              "      <th>1</th>\n",
              "      <td>2017</td>\n",
              "      <td>3761531.89</td>\n",
              "    </tr>\n",
              "    <tr>\n",
              "      <th>2</th>\n",
              "      <td>2015</td>\n",
              "      <td>1226930.09</td>\n",
              "    </tr>\n",
              "  </tbody>\n",
              "</table>\n",
              "</div>\n",
              "      <button class=\"colab-df-convert\" onclick=\"convertToInteractive('df-4eea263a-fe73-4b9c-8afb-fe944e648be4')\"\n",
              "              title=\"Convert this dataframe to an interactive table.\"\n",
              "              style=\"display:none;\">\n",
              "        \n",
              "  <svg xmlns=\"http://www.w3.org/2000/svg\" height=\"24px\"viewBox=\"0 0 24 24\"\n",
              "       width=\"24px\">\n",
              "    <path d=\"M0 0h24v24H0V0z\" fill=\"none\"/>\n",
              "    <path d=\"M18.56 5.44l.94 2.06.94-2.06 2.06-.94-2.06-.94-.94-2.06-.94 2.06-2.06.94zm-11 1L8.5 8.5l.94-2.06 2.06-.94-2.06-.94L8.5 2.5l-.94 2.06-2.06.94zm10 10l.94 2.06.94-2.06 2.06-.94-2.06-.94-.94-2.06-.94 2.06-2.06.94z\"/><path d=\"M17.41 7.96l-1.37-1.37c-.4-.4-.92-.59-1.43-.59-.52 0-1.04.2-1.43.59L10.3 9.45l-7.72 7.72c-.78.78-.78 2.05 0 2.83L4 21.41c.39.39.9.59 1.41.59.51 0 1.02-.2 1.41-.59l7.78-7.78 2.81-2.81c.8-.78.8-2.07 0-2.86zM5.41 20L4 18.59l7.72-7.72 1.47 1.35L5.41 20z\"/>\n",
              "  </svg>\n",
              "      </button>\n",
              "      \n",
              "  <style>\n",
              "    .colab-df-container {\n",
              "      display:flex;\n",
              "      flex-wrap:wrap;\n",
              "      gap: 12px;\n",
              "    }\n",
              "\n",
              "    .colab-df-convert {\n",
              "      background-color: #E8F0FE;\n",
              "      border: none;\n",
              "      border-radius: 50%;\n",
              "      cursor: pointer;\n",
              "      display: none;\n",
              "      fill: #1967D2;\n",
              "      height: 32px;\n",
              "      padding: 0 0 0 0;\n",
              "      width: 32px;\n",
              "    }\n",
              "\n",
              "    .colab-df-convert:hover {\n",
              "      background-color: #E2EBFA;\n",
              "      box-shadow: 0px 1px 2px rgba(60, 64, 67, 0.3), 0px 1px 3px 1px rgba(60, 64, 67, 0.15);\n",
              "      fill: #174EA6;\n",
              "    }\n",
              "\n",
              "    [theme=dark] .colab-df-convert {\n",
              "      background-color: #3B4455;\n",
              "      fill: #D2E3FC;\n",
              "    }\n",
              "\n",
              "    [theme=dark] .colab-df-convert:hover {\n",
              "      background-color: #434B5C;\n",
              "      box-shadow: 0px 1px 3px 1px rgba(0, 0, 0, 0.15);\n",
              "      filter: drop-shadow(0px 1px 2px rgba(0, 0, 0, 0.3));\n",
              "      fill: #FFFFFF;\n",
              "    }\n",
              "  </style>\n",
              "\n",
              "      <script>\n",
              "        const buttonEl =\n",
              "          document.querySelector('#df-4eea263a-fe73-4b9c-8afb-fe944e648be4 button.colab-df-convert');\n",
              "        buttonEl.style.display =\n",
              "          google.colab.kernel.accessAllowed ? 'block' : 'none';\n",
              "\n",
              "        async function convertToInteractive(key) {\n",
              "          const element = document.querySelector('#df-4eea263a-fe73-4b9c-8afb-fe944e648be4');\n",
              "          const dataTable =\n",
              "            await google.colab.kernel.invokeFunction('convertToInteractive',\n",
              "                                                     [key], {});\n",
              "          if (!dataTable) return;\n",
              "\n",
              "          const docLinkHtml = 'Like what you see? Visit the ' +\n",
              "            '<a target=\"_blank\" href=https://colab.research.google.com/notebooks/data_table.ipynb>data table notebook</a>'\n",
              "            + ' to learn more about interactive tables.';\n",
              "          element.innerHTML = '';\n",
              "          dataTable['output_type'] = 'display_data';\n",
              "          await google.colab.output.renderOutput(dataTable, element);\n",
              "          const docLink = document.createElement('div');\n",
              "          docLink.innerHTML = docLinkHtml;\n",
              "          element.appendChild(docLink);\n",
              "        }\n",
              "      </script>\n",
              "    </div>\n",
              "  </div>\n",
              "  "
            ]
          },
          "metadata": {},
          "execution_count": 27
        }
      ]
    },
    {
      "cell_type": "code",
      "source": [
        "plt.rcParams['figure.figsize'] = (3, 6)\n",
        "A=Highest_profitable_year['arrival_date_year']\n",
        "B=Highest_profitable_year['adr']\n",
        "plt.bar(A,B,width=.4)\n",
        "plt.grid(linestyle ='-',linewidth =1)\n",
        "plt.xlabel(\"year\")\n",
        "plt.ylabel(\"Total 'adr' per year in 10 lakhs\")\n",
        "plt.title(\"Highest porfitable year for hotels\")"
      ],
      "metadata": {
        "colab": {
          "base_uri": "https://localhost:8080/",
          "height": 421
        },
        "id": "2IF-jqct0Sel",
        "outputId": "b753fe32-af20-4001-98dd-ff9e174f52b1"
      },
      "execution_count": null,
      "outputs": [
        {
          "output_type": "execute_result",
          "data": {
            "text/plain": [
              "Text(0.5, 1.0, 'Highest porfitable year for hotels')"
            ]
          },
          "metadata": {},
          "execution_count": 28
        },
        {
          "output_type": "display_data",
          "data": {
            "text/plain": [
              "<Figure size 216x432 with 1 Axes>"
            ],
            "image/png": "[encoded data removed]"
          },
          "metadata": {
            "needs_background": "light"
          }
        }
      ]
    },
    {
      "cell_type": "code",
      "source": [
        "No_of_Bookings=df_copy.groupby('arrival_date_year').size().reset_index(name='booking_no')\n",
        "No_of_Bookings"
      ],
      "metadata": {
        "colab": {
          "base_uri": "https://localhost:8080/",
          "height": 143
        },
        "id": "sJxXQgxF7__M",
        "outputId": "3ecdc2f7-90d7-468e-fde1-6941d175822c"
      },
      "execution_count": null,
      "outputs": [
        {
          "output_type": "execute_result",
          "data": {
            "text/plain": [
              "   arrival_date_year  booking_no\n",
              "0               2015       13284\n",
              "1               2016       42313\n",
              "2               2017       31633"
            ],
            "text/html": [
              "\n",
              "  <div id=\"df-e74a545d-f0a3-4bce-80cc-57f15de23626\">\n",
              "    <div class=\"colab-df-container\">\n",
              "      <div>\n",
              "<style scoped>\n",
              "    .dataframe tbody tr th:only-of-type {\n",
              "        vertical-align: middle;\n",
              "    }\n",
              "\n",
              "    .dataframe tbody tr th {\n",
              "        vertical-align: top;\n",
              "    }\n",
              "\n",
              "    .dataframe thead th {\n",
              "        text-align: right;\n",
              "    }\n",
              "</style>\n",
              "<table border=\"1\" class=\"dataframe\">\n",
              "  <thead>\n",
              "    <tr style=\"text-align: right;\">\n",
              "      <th></th>\n",
              "      <th>arrival_date_year</th>\n",
              "      <th>booking_no</th>\n",
              "    </tr>\n",
              "  </thead>\n",
              "  <tbody>\n",
              "    <tr>\n",
              "      <th>0</th>\n",
              "      <td>2015</td>\n",
              "      <td>13284</td>\n",
              "    </tr>\n",
              "    <tr>\n",
              "      <th>1</th>\n",
              "      <td>2016</td>\n",
              "      <td>42313</td>\n",
              "    </tr>\n",
              "    <tr>\n",
              "      <th>2</th>\n",
              "      <td>2017</td>\n",
              "      <td>31633</td>\n",
              "    </tr>\n",
              "  </tbody>\n",
              "</table>\n",
              "</div>\n",
              "      <button class=\"colab-df-convert\" onclick=\"convertToInteractive('df-e74a545d-f0a3-4bce-80cc-57f15de23626')\"\n",
              "              title=\"Convert this dataframe to an interactive table.\"\n",
              "              style=\"display:none;\">\n",
              "        \n",
              "  <svg xmlns=\"http://www.w3.org/2000/svg\" height=\"24px\"viewBox=\"0 0 24 24\"\n",
              "       width=\"24px\">\n",
              "    <path d=\"M0 0h24v24H0V0z\" fill=\"none\"/>\n",
              "    <path d=\"M18.56 5.44l.94 2.06.94-2.06 2.06-.94-2.06-.94-.94-2.06-.94 2.06-2.06.94zm-11 1L8.5 8.5l.94-2.06 2.06-.94-2.06-.94L8.5 2.5l-.94 2.06-2.06.94zm10 10l.94 2.06.94-2.06 2.06-.94-2.06-.94-.94-2.06-.94 2.06-2.06.94z\"/><path d=\"M17.41 7.96l-1.37-1.37c-.4-.4-.92-.59-1.43-.59-.52 0-1.04.2-1.43.59L10.3 9.45l-7.72 7.72c-.78.78-.78 2.05 0 2.83L4 21.41c.39.39.9.59 1.41.59.51 0 1.02-.2 1.41-.59l7.78-7.78 2.81-2.81c.8-.78.8-2.07 0-2.86zM5.41 20L4 18.59l7.72-7.72 1.47 1.35L5.41 20z\"/>\n",
              "  </svg>\n",
              "      </button>\n",
              "      \n",
              "  <style>\n",
              "    .colab-df-container {\n",
              "      display:flex;\n",
              "      flex-wrap:wrap;\n",
              "      gap: 12px;\n",
              "    }\n",
              "\n",
              "    .colab-df-convert {\n",
              "      background-color: #E8F0FE;\n",
              "      border: none;\n",
              "      border-radius: 50%;\n",
              "      cursor: pointer;\n",
              "      display: none;\n",
              "      fill: #1967D2;\n",
              "      height: 32px;\n",
              "      padding: 0 0 0 0;\n",
              "      width: 32px;\n",
              "    }\n",
              "\n",
              "    .colab-df-convert:hover {\n",
              "      background-color: #E2EBFA;\n",
              "      box-shadow: 0px 1px 2px rgba(60, 64, 67, 0.3), 0px 1px 3px 1px rgba(60, 64, 67, 0.15);\n",
              "      fill: #174EA6;\n",
              "    }\n",
              "\n",
              "    [theme=dark] .colab-df-convert {\n",
              "      background-color: #3B4455;\n",
              "      fill: #D2E3FC;\n",
              "    }\n",
              "\n",
              "    [theme=dark] .colab-df-convert:hover {\n",
              "      background-color: #434B5C;\n",
              "      box-shadow: 0px 1px 3px 1px rgba(0, 0, 0, 0.15);\n",
              "      filter: drop-shadow(0px 1px 2px rgba(0, 0, 0, 0.3));\n",
              "      fill: #FFFFFF;\n",
              "    }\n",
              "  </style>\n",
              "\n",
              "      <script>\n",
              "        const buttonEl =\n",
              "          document.querySelector('#df-e74a545d-f0a3-4bce-80cc-57f15de23626 button.colab-df-convert');\n",
              "        buttonEl.style.display =\n",
              "          google.colab.kernel.accessAllowed ? 'block' : 'none';\n",
              "\n",
              "        async function convertToInteractive(key) {\n",
              "          const element = document.querySelector('#df-e74a545d-f0a3-4bce-80cc-57f15de23626');\n",
              "          const dataTable =\n",
              "            await google.colab.kernel.invokeFunction('convertToInteractive',\n",
              "                                                     [key], {});\n",
              "          if (!dataTable) return;\n",
              "\n",
              "          const docLinkHtml = 'Like what you see? Visit the ' +\n",
              "            '<a target=\"_blank\" href=https://colab.research.google.com/notebooks/data_table.ipynb>data table notebook</a>'\n",
              "            + ' to learn more about interactive tables.';\n",
              "          element.innerHTML = '';\n",
              "          dataTable['output_type'] = 'display_data';\n",
              "          await google.colab.output.renderOutput(dataTable, element);\n",
              "          const docLink = document.createElement('div');\n",
              "          docLink.innerHTML = docLinkHtml;\n",
              "          element.appendChild(docLink);\n",
              "        }\n",
              "      </script>\n",
              "    </div>\n",
              "  </div>\n",
              "  "
            ]
          },
          "metadata": {},
          "execution_count": 29
        }
      ]
    },
    {
      "cell_type": "code",
      "source": [
        "plt.rcParams['figure.figsize'] = (3, 6)\n",
        "plt.bar(No_of_Bookings['arrival_date_year'],No_of_Bookings['booking_no'])"
      ],
      "metadata": {
        "colab": {
          "base_uri": "https://localhost:8080/",
          "height": 391
        },
        "id": "8qz7VRsOv5dY",
        "outputId": "952c3b58-e6f0-4eb7-ddf2-54036a24a6ac"
      },
      "execution_count": null,
      "outputs": [
        {
          "output_type": "execute_result",
          "data": {
            "text/plain": [
              "<BarContainer object of 3 artists>"
            ]
          },
          "metadata": {},
          "execution_count": 30
        },
        {
          "output_type": "display_data",
          "data": {
            "text/plain": [
              "<Figure size 216x432 with 1 Axes>"
            ],
            "image/png": "[encoded data removed]"
          },
          "metadata": {
            "needs_background": "light"
          }
        }
      ]
    },
    {
      "cell_type": "code",
      "source": [
        "# No.of bookings year wise.\n",
        "a=df_copy.groupby(['arrival_date_year','arrival_date_month']).size().reset_index(name='booking_no')\n",
        "No_booking_15=a[['arrival_date_year','arrival_date_month','booking_no']][a['arrival_date_year']==2015]\n",
        "No_booking_15\n",
        "No_booking_16=a[['arrival_date_year','arrival_date_month','booking_no']][a['arrival_date_year']==2016]\n",
        "No_booking_17=a[['arrival_date_year','arrival_date_month','booking_no']][a['arrival_date_year']==2017]\n",
        "No_booking_17,No_booking_15,No_booking_16"
      ],
      "metadata": {
        "id": "M2NHIoTdwV_n",
        "colab": {
          "base_uri": "https://localhost:8080/"
        },
        "outputId": "5c23d863-7632-470c-bfe1-160aed26d794"
      },
      "execution_count": null,
      "outputs": [
        {
          "output_type": "execute_result",
          "data": {
            "text/plain": [
              "(    arrival_date_year arrival_date_month  booking_no\n",
              " 18               2017              April        4133\n",
              " 19               2017             August        4380\n",
              " 20               2017           February        3284\n",
              " 21               2017            January        2836\n",
              " 22               2017               July        4529\n",
              " 23               2017               June        4241\n",
              " 24               2017              March        3663\n",
              " 25               2017                May        4567,\n",
              "    arrival_date_year arrival_date_month  booking_no\n",
              " 0               2015             August        2447\n",
              " 1               2015           December        1975\n",
              " 2               2015               July        1672\n",
              " 3               2015           November        1662\n",
              " 4               2015            October        2694\n",
              " 5               2015          September        2834,\n",
              "     arrival_date_year arrival_date_month  booking_no\n",
              " 6                2016              April        3767\n",
              " 7                2016             August        4415\n",
              " 8                2016           December        3137\n",
              " 9                2016           February        2799\n",
              " 10               2016            January        1849\n",
              " 11               2016               July        3842\n",
              " 12               2016               June        3515\n",
              " 13               2016              March        3826\n",
              " 14               2016                May        3777\n",
              " 15               2016           November        3311\n",
              " 16               2016            October        4227\n",
              " 17               2016          September        3848)"
            ]
          },
          "metadata": {},
          "execution_count": 31
        }
      ]
    },
    {
      "cell_type": "code",
      "source": [
        "\n",
        "plt.axis('equal')\n",
        "label=No_booking_15['arrival_date_month']\n",
        "size=(No_booking_15['booking_no']/No_booking_15['booking_no'].sum())*100\n",
        "plt.pie(size,labels=label,radius=2,autopct='%0.2f%%')\n",
        "plt.xlabel('2015 Booking',c='r')\n",
        "plt.show()\n",
        "\n",
        "\n",
        "plt.axis('equal')\n",
        "label=No_booking_16['arrival_date_month']\n",
        "size=(No_booking_16['booking_no']/No_booking_15['booking_no'].sum())*100\n",
        "plt.pie(size,labels=label,radius=2,autopct='%0.2f%%')\n",
        "plt.xlabel('2016 Booking',c='r')\n",
        "plt.show()\n",
        "\n",
        "plt.axis('equal')\n",
        "label=No_booking_17['arrival_date_month']\n",
        "size=(No_booking_17['booking_no']/No_booking_15['booking_no'].sum())*100\n",
        "plt.pie(size,labels=label,radius=2,autopct='%0.2f%%')\n",
        "plt.xlabel('2017 Booking',c='r')\n",
        "plt.show()"
      ],
      "metadata": {
        "colab": {
          "base_uri": "https://localhost:8080/",
          "height": 1000
        },
        "id": "YpaoxMvYOsdJ",
        "outputId": "082622bb-2db2-499c-81ca-79120d9ae500"
      },
      "execution_count": null,
      "outputs": [
        {
          "output_type": "display_data",
          "data": {
            "text/plain": [
              "<Figure size 216x432 with 1 Axes>"
            ],
            "image/png": "[encoded data removed]"
          },
          "metadata": {}
        },
        {
          "output_type": "display_data",
          "data": {
            "text/plain": [
              "<Figure size 216x432 with 1 Axes>"
            ],
            "image/png": "[encoded data removed]"
          },
          "metadata": {}
        },
        {
          "output_type": "display_data",
          "data": {
            "text/plain": [
              "<Figure size 216x432 with 1 Axes>"
            ],
            "image/png": "[encoded data removed]"
          },
          "metadata": {}
        }
      ]
    },
    {
      "cell_type": "markdown",
      "source": [
        "For the Above pie chart it is confirmed that "
      ],
      "metadata": {
        "id": "0o4c6Mi3Z0WO"
      }
    },
    {
      "cell_type": "code",
      "source": [
        "plt.rcParams['figure.figsize'] = (30,20)\n",
        "plt.subplot(2,2,1)\n",
        "plt.bar(No_booking_15['arrival_date_month'],No_booking_15['booking_no'])\n",
        "plt.title('2015 booking analysis')\n",
        "\n",
        "plt.subplot(2,2,2)\n",
        "plt.bar(No_booking_16['arrival_date_month'],No_booking_16['booking_no'])\n",
        "plt.title('2016 booking analysis')\n",
        "\n",
        "plt.subplot(2,2,3)\n",
        "plt.bar(No_booking_17['arrival_date_month'],No_booking_17['booking_no'])\n",
        "plt.title('2017 booking analysis')\n",
        "plt.show"
      ],
      "metadata": {
        "colab": {
          "base_uri": "https://localhost:8080/",
          "height": 967
        },
        "id": "_4s05wGJbje8",
        "outputId": "bcc4f74d-0c56-4644-ae6a-85f9cc810d24"
      },
      "execution_count": null,
      "outputs": [
        {
          "output_type": "execute_result",
          "data": {
            "text/plain": [
              "<function matplotlib.pyplot.show(*args, **kw)>"
            ]
          },
          "metadata": {},
          "execution_count": 33
        },
        {
          "output_type": "display_data",
          "data": {
            "text/plain": [
              "<Figure size 2160x1440 with 3 Axes>"
            ],
            "image/png": "[encoded data removed]"
          },
          "metadata": {
            "needs_background": "light"
          }
        }
      ]
    },
    {
      "cell_type": "markdown",
      "source": [
        "Below we can find that for 43441 hotels speacial request were made."
      ],
      "metadata": {
        "id": "62G72BUWsqkr"
      }
    },
    {
      "cell_type": "code",
      "source": [
        "hotel_tooked_request=df_copy[['hotel','total_of_special_requests']][df_copy['total_of_special_requests']>0]\n",
        "hotel_tooked_request.groupby('hotel').size().reset_index(name='booking_no')"
      ],
      "metadata": {
        "colab": {
          "base_uri": "https://localhost:8080/",
          "height": 112
        },
        "id": "K-WN9soyb3m8",
        "outputId": "582ce811-887c-4293-ac37-9f27609b5f7f"
      },
      "execution_count": null,
      "outputs": [
        {
          "output_type": "execute_result",
          "data": {
            "text/plain": [
              "          hotel  booking_no\n",
              "0    City Hotel       27008\n",
              "1  Resort Hotel       16433"
            ],
            "text/html": [
              "\n",
              "  <div id=\"df-51cccca3-f0ed-4e90-a9da-532e9da74f51\">\n",
              "    <div class=\"colab-df-container\">\n",
              "      <div>\n",
              "<style scoped>\n",
              "    .dataframe tbody tr th:only-of-type {\n",
              "        vertical-align: middle;\n",
              "    }\n",
              "\n",
              "    .dataframe tbody tr th {\n",
              "        vertical-align: top;\n",
              "    }\n",
              "\n",
              "    .dataframe thead th {\n",
              "        text-align: right;\n",
              "    }\n",
              "</style>\n",
              "<table border=\"1\" class=\"dataframe\">\n",
              "  <thead>\n",
              "    <tr style=\"text-align: right;\">\n",
              "      <th></th>\n",
              "      <th>hotel</th>\n",
              "      <th>booking_no</th>\n",
              "    </tr>\n",
              "  </thead>\n",
              "  <tbody>\n",
              "    <tr>\n",
              "      <th>0</th>\n",
              "      <td>City Hotel</td>\n",
              "      <td>27008</td>\n",
              "    </tr>\n",
              "    <tr>\n",
              "      <th>1</th>\n",
              "      <td>Resort Hotel</td>\n",
              "      <td>16433</td>\n",
              "    </tr>\n",
              "  </tbody>\n",
              "</table>\n",
              "</div>\n",
              "      <button class=\"colab-df-convert\" onclick=\"convertToInteractive('df-51cccca3-f0ed-4e90-a9da-532e9da74f51')\"\n",
              "              title=\"Convert this dataframe to an interactive table.\"\n",
              "              style=\"display:none;\">\n",
              "        \n",
              "  <svg xmlns=\"http://www.w3.org/2000/svg\" height=\"24px\"viewBox=\"0 0 24 24\"\n",
              "       width=\"24px\">\n",
              "    <path d=\"M0 0h24v24H0V0z\" fill=\"none\"/>\n",
              "    <path d=\"M18.56 5.44l.94 2.06.94-2.06 2.06-.94-2.06-.94-.94-2.06-.94 2.06-2.06.94zm-11 1L8.5 8.5l.94-2.06 2.06-.94-2.06-.94L8.5 2.5l-.94 2.06-2.06.94zm10 10l.94 2.06.94-2.06 2.06-.94-2.06-.94-.94-2.06-.94 2.06-2.06.94z\"/><path d=\"M17.41 7.96l-1.37-1.37c-.4-.4-.92-.59-1.43-.59-.52 0-1.04.2-1.43.59L10.3 9.45l-7.72 7.72c-.78.78-.78 2.05 0 2.83L4 21.41c.39.39.9.59 1.41.59.51 0 1.02-.2 1.41-.59l7.78-7.78 2.81-2.81c.8-.78.8-2.07 0-2.86zM5.41 20L4 18.59l7.72-7.72 1.47 1.35L5.41 20z\"/>\n",
              "  </svg>\n",
              "      </button>\n",
              "      \n",
              "  <style>\n",
              "    .colab-df-container {\n",
              "      display:flex;\n",
              "      flex-wrap:wrap;\n",
              "      gap: 12px;\n",
              "    }\n",
              "\n",
              "    .colab-df-convert {\n",
              "      background-color: #E8F0FE;\n",
              "      border: none;\n",
              "      border-radius: 50%;\n",
              "      cursor: pointer;\n",
              "      display: none;\n",
              "      fill: #1967D2;\n",
              "      height: 32px;\n",
              "      padding: 0 0 0 0;\n",
              "      width: 32px;\n",
              "    }\n",
              "\n",
              "    .colab-df-convert:hover {\n",
              "      background-color: #E2EBFA;\n",
              "      box-shadow: 0px 1px 2px rgba(60, 64, 67, 0.3), 0px 1px 3px 1px rgba(60, 64, 67, 0.15);\n",
              "      fill: #174EA6;\n",
              "    }\n",
              "\n",
              "    [theme=dark] .colab-df-convert {\n",
              "      background-color: #3B4455;\n",
              "      fill: #D2E3FC;\n",
              "    }\n",
              "\n",
              "    [theme=dark] .colab-df-convert:hover {\n",
              "      background-color: #434B5C;\n",
              "      box-shadow: 0px 1px 3px 1px rgba(0, 0, 0, 0.15);\n",
              "      filter: drop-shadow(0px 1px 2px rgba(0, 0, 0, 0.3));\n",
              "      fill: #FFFFFF;\n",
              "    }\n",
              "  </style>\n",
              "\n",
              "      <script>\n",
              "        const buttonEl =\n",
              "          document.querySelector('#df-51cccca3-f0ed-4e90-a9da-532e9da74f51 button.colab-df-convert');\n",
              "        buttonEl.style.display =\n",
              "          google.colab.kernel.accessAllowed ? 'block' : 'none';\n",
              "\n",
              "        async function convertToInteractive(key) {\n",
              "          const element = document.querySelector('#df-51cccca3-f0ed-4e90-a9da-532e9da74f51');\n",
              "          const dataTable =\n",
              "            await google.colab.kernel.invokeFunction('convertToInteractive',\n",
              "                                                     [key], {});\n",
              "          if (!dataTable) return;\n",
              "\n",
              "          const docLinkHtml = 'Like what you see? Visit the ' +\n",
              "            '<a target=\"_blank\" href=https://colab.research.google.com/notebooks/data_table.ipynb>data table notebook</a>'\n",
              "            + ' to learn more about interactive tables.';\n",
              "          element.innerHTML = '';\n",
              "          dataTable['output_type'] = 'display_data';\n",
              "          await google.colab.output.renderOutput(dataTable, element);\n",
              "          const docLink = document.createElement('div');\n",
              "          docLink.innerHTML = docLinkHtml;\n",
              "          element.appendChild(docLink);\n",
              "        }\n",
              "      </script>\n",
              "    </div>\n",
              "  </div>\n",
              "  "
            ]
          },
          "metadata": {},
          "execution_count": 34
        }
      ]
    },
    {
      "cell_type": "markdown",
      "source": [
        "Below we can find the max special request made on hotels."
      ],
      "metadata": {
        "id": "aQgXXsOws0cn"
      }
    },
    {
      "cell_type": "code",
      "source": [
        "hotel_tooked_max_request=df_copy['hotel'][df_copy['total_of_special_requests']==df_copy['total_of_special_requests'].max()]\n",
        "hotel_tooked_max_request.count()"
      ],
      "metadata": {
        "colab": {
          "base_uri": "https://localhost:8080/"
        },
        "id": "TNG1oLf9slLA",
        "outputId": "0cba59f2-c2cf-4420-c61d-47cc904fc98e"
      },
      "execution_count": null,
      "outputs": [
        {
          "output_type": "execute_result",
          "data": {
            "text/plain": [
              "36"
            ]
          },
          "metadata": {},
          "execution_count": 35
        }
      ]
    },
    {
      "cell_type": "code",
      "source": [
        "df_copy['total_of_special_requests'].max()"
      ],
      "metadata": {
        "colab": {
          "base_uri": "https://localhost:8080/"
        },
        "id": "CSYhvbhys7hL",
        "outputId": "e1413fea-c30a-4f30-a9bd-b1daa8235e96"
      },
      "execution_count": null,
      "outputs": [
        {
          "output_type": "execute_result",
          "data": {
            "text/plain": [
              "5"
            ]
          },
          "metadata": {},
          "execution_count": 36
        }
      ]
    },
    {
      "cell_type": "code",
      "source": [
        "Hotel_tooked_request=df_copy[['hotel','total_of_special_requests']][df_copy['total_of_special_requests']>0]\n",
        "\n",
        "Hotel_request_for_CityHotel=Hotel_tooked_request[Hotel_tooked_request['hotel']=='City Hotel'].groupby('total_of_special_requests').size().reset_index(name='request_no')\n",
        "Hotel_request_for_ResortHotel=Hotel_tooked_request[Hotel_tooked_request['hotel']=='Resort Hotel'].groupby('total_of_special_requests').size().reset_index(name='request_no')"
      ],
      "metadata": {
        "id": "1LCjFd8_tVTf"
      },
      "execution_count": null,
      "outputs": []
    },
    {
      "cell_type": "code",
      "source": [
        "import matplotlib.pyplot as plt\n",
        "from importlib import reload\n",
        "plt=reload(plt)\n",
        "plt.rcParams['figure.figsize'] = (20,10)\n",
        "plt.subplot(1,2,1)\n",
        "plt.bar(Hotel_request_for_CityHotel['total_of_special_requests'],Hotel_request_for_CityHotel['request_no'])\n",
        "plt.title('SPECIAL REQUEST MADE IN CITY HOTEL CATAGORYWISE',FontSize=18)\n",
        "plt.xlabel('TOTAL OF SPECIAL REQUEST IN CITY HOTEL ',FontSize=15)\n",
        "plt.ylabel('TOTAL COUNT OF REQUEST MADE IN CITY HOTEL',FontSize=15)\n",
        "plt.subplot(1,2,2)\n",
        "plt.bar(Hotel_request_for_ResortHotel['total_of_special_requests'],Hotel_request_for_ResortHotel['request_no'])\n",
        "plt.title('SPECIAL REQUEST MADE IN RESORT HOTEL CATAGORYWISE',FontSize=18)\n",
        "plt.xlabel('TOTAL OF SPECIAL REQUEST IN RESORT HOTEL ',FontSize=15)\n",
        "plt.ylabel('TOTAL COUNT OF REQUEST MADE IN RESORT HOTEL',FontSize=15)"
      ],
      "metadata": {
        "colab": {
          "base_uri": "https://localhost:8080/",
          "height": 647
        },
        "id": "ySgmjglWt-AJ",
        "outputId": "81d07650-4519-4fce-828f-5916c2d88ae9"
      },
      "execution_count": null,
      "outputs": [
        {
          "output_type": "execute_result",
          "data": {
            "text/plain": [
              "Text(0, 0.5, 'TOTAL COUNT OF REQUEST MADE IN RESORT HOTEL')"
            ]
          },
          "metadata": {},
          "execution_count": 38
        },
        {
          "output_type": "display_data",
          "data": {
            "text/plain": [
              "<Figure size 1440x720 with 2 Axes>"
            ],
            "image/png": "[encoded data removed]"
          },
          "metadata": {
            "needs_background": "light"
          }
        }
      ]
    },
    {
      "cell_type": "markdown",
      "source": [
        "** For the above graph it is clear that City Hotel was likely to receive more special request compared to Resort Hotel.**"
      ],
      "metadata": {
        "id": "oUJfQQUfGrJK"
      }
    },
    {
      "cell_type": "code",
      "source": [],
      "metadata": {
        "id": "yMtYNqgjrpAE"
      },
      "execution_count": null,
      "outputs": []
    },
    {
      "cell_type": "markdown",
      "source": [],
      "metadata": {
        "id": "HUMuvXcctAXW"
      }
    },
    {
      "cell_type": "code",
      "source": [
        "df_copy"
      ],
      "metadata": {
        "colab": {
          "base_uri": "https://localhost:8080/",
          "height": 661
        },
        "id": "Tl99dE3atA1p",
        "outputId": "df288b1e-03fc-4bc3-97ec-6a479472b36c"
      },
      "execution_count": null,
      "outputs": [
        {
          "output_type": "execute_result",
          "data": {
            "text/plain": [
              "               hotel  is_canceled  lead_time  arrival_date_year  \\\n",
              "0       Resort Hotel            0        342               2015   \n",
              "1       Resort Hotel            0        737               2015   \n",
              "2       Resort Hotel            0          7               2015   \n",
              "3       Resort Hotel            0         13               2015   \n",
              "4       Resort Hotel            0         14               2015   \n",
              "...              ...          ...        ...                ...   \n",
              "119385    City Hotel            0         23               2017   \n",
              "119386    City Hotel            0        102               2017   \n",
              "119387    City Hotel            0         34               2017   \n",
              "119388    City Hotel            0        109               2017   \n",
              "119389    City Hotel            0        205               2017   \n",
              "\n",
              "       arrival_date_month  arrival_date_week_number  \\\n",
              "0                    July                        27   \n",
              "1                    July                        27   \n",
              "2                    July                        27   \n",
              "3                    July                        27   \n",
              "4                    July                        27   \n",
              "...                   ...                       ...   \n",
              "119385             August                        35   \n",
              "119386             August                        35   \n",
              "119387             August                        35   \n",
              "119388             August                        35   \n",
              "119389             August                        35   \n",
              "\n",
              "        arrival_date_day_of_month  stays_in_weekend_nights  \\\n",
              "0                               1                        0   \n",
              "1                               1                        0   \n",
              "2                               1                        0   \n",
              "3                               1                        0   \n",
              "4                               1                        0   \n",
              "...                           ...                      ...   \n",
              "119385                         30                        2   \n",
              "119386                         31                        2   \n",
              "119387                         31                        2   \n",
              "119388                         31                        2   \n",
              "119389                         29                        2   \n",
              "\n",
              "        stays_in_week_nights  adults  ...  deposit_type  agent company  \\\n",
              "0                          0       2  ...    No Deposit      0     0.0   \n",
              "1                          0       2  ...    No Deposit      0     0.0   \n",
              "2                          1       1  ...    No Deposit      0     0.0   \n",
              "3                          1       1  ...    No Deposit    304     0.0   \n",
              "4                          2       2  ...    No Deposit    240     0.0   \n",
              "...                      ...     ...  ...           ...    ...     ...   \n",
              "119385                     5       2  ...    No Deposit    394     0.0   \n",
              "119386                     5       3  ...    No Deposit      9     0.0   \n",
              "119387                     5       2  ...    No Deposit      9     0.0   \n",
              "119388                     5       2  ...    No Deposit     89     0.0   \n",
              "119389                     7       2  ...    No Deposit      9     0.0   \n",
              "\n",
              "       days_in_waiting_list customer_type     adr  \\\n",
              "0                         0     Transient    0.00   \n",
              "1                         0     Transient    0.00   \n",
              "2                         0     Transient   75.00   \n",
              "3                         0     Transient   75.00   \n",
              "4                         0     Transient   98.00   \n",
              "...                     ...           ...     ...   \n",
              "119385                    0     Transient   96.14   \n",
              "119386                    0     Transient  225.43   \n",
              "119387                    0     Transient  157.71   \n",
              "119388                    0     Transient  104.40   \n",
              "119389                    0     Transient  151.20   \n",
              "\n",
              "        required_car_parking_spaces  total_of_special_requests  \\\n",
              "0                                 0                          0   \n",
              "1                                 0                          0   \n",
              "2                                 0                          0   \n",
              "3                                 0                          0   \n",
              "4                                 0                          1   \n",
              "...                             ...                        ...   \n",
              "119385                            0                          0   \n",
              "119386                            0                          2   \n",
              "119387                            0                          4   \n",
              "119388                            0                          0   \n",
              "119389                            0                          2   \n",
              "\n",
              "        reservation_status reservation_status_date  \n",
              "0                Check-Out              2015-07-01  \n",
              "1                Check-Out              2015-07-01  \n",
              "2                Check-Out              2015-07-02  \n",
              "3                Check-Out              2015-07-02  \n",
              "4                Check-Out              2015-07-03  \n",
              "...                    ...                     ...  \n",
              "119385           Check-Out              2017-09-06  \n",
              "119386           Check-Out              2017-09-07  \n",
              "119387           Check-Out              2017-09-07  \n",
              "119388           Check-Out              2017-09-07  \n",
              "119389           Check-Out              2017-09-07  \n",
              "\n",
              "[87230 rows x 32 columns]"
            ],
            "text/html": [
              "\n",
              "  <div id=\"df-679f98d2-e2f2-41a9-a7fb-58f2612108d9\">\n",
              "    <div class=\"colab-df-container\">\n",
              "      <div>\n",
              "<style scoped>\n",
              "    .dataframe tbody tr th:only-of-type {\n",
              "        vertical-align: middle;\n",
              "    }\n",
              "\n",
              "    .dataframe tbody tr th {\n",
              "        vertical-align: top;\n",
              "    }\n",
              "\n",
              "    .dataframe thead th {\n",
              "        text-align: right;\n",
              "    }\n",
              "</style>\n",
              "<table border=\"1\" class=\"dataframe\">\n",
              "  <thead>\n",
              "    <tr style=\"text-align: right;\">\n",
              "      <th></th>\n",
              "      <th>hotel</th>\n",
              "      <th>is_canceled</th>\n",
              "      <th>lead_time</th>\n",
              "      <th>arrival_date_year</th>\n",
              "      <th>arrival_date_month</th>\n",
              "      <th>arrival_date_week_number</th>\n",
              "      <th>arrival_date_day_of_month</th>\n",
              "      <th>stays_in_weekend_nights</th>\n",
              "      <th>stays_in_week_nights</th>\n",
              "      <th>adults</th>\n",
              "      <th>...</th>\n",
              "      <th>deposit_type</th>\n",
              "      <th>agent</th>\n",
              "      <th>company</th>\n",
              "      <th>days_in_waiting_list</th>\n",
              "      <th>customer_type</th>\n",
              "      <th>adr</th>\n",
              "      <th>required_car_parking_spaces</th>\n",
              "      <th>total_of_special_requests</th>\n",
              "      <th>reservation_status</th>\n",
              "      <th>reservation_status_date</th>\n",
              "    </tr>\n",
              "  </thead>\n",
              "  <tbody>\n",
              "    <tr>\n",
              "      <th>0</th>\n",
              "      <td>Resort Hotel</td>\n",
              "      <td>0</td>\n",
              "      <td>342</td>\n",
              "      <td>2015</td>\n",
              "      <td>July</td>\n",
              "      <td>27</td>\n",
              "      <td>1</td>\n",
              "      <td>0</td>\n",
              "      <td>0</td>\n",
              "      <td>2</td>\n",
              "      <td>...</td>\n",
              "      <td>No Deposit</td>\n",
              "      <td>0</td>\n",
              "      <td>0.0</td>\n",
              "      <td>0</td>\n",
              "      <td>Transient</td>\n",
              "      <td>0.00</td>\n",
              "      <td>0</td>\n",
              "      <td>0</td>\n",
              "      <td>Check-Out</td>\n",
              "      <td>2015-07-01</td>\n",
              "    </tr>\n",
              "    <tr>\n",
              "      <th>1</th>\n",
              "      <td>Resort Hotel</td>\n",
              "      <td>0</td>\n",
              "      <td>737</td>\n",
              "      <td>2015</td>\n",
              "      <td>July</td>\n",
              "      <td>27</td>\n",
              "      <td>1</td>\n",
              "      <td>0</td>\n",
              "      <td>0</td>\n",
              "      <td>2</td>\n",
              "      <td>...</td>\n",
              "      <td>No Deposit</td>\n",
              "      <td>0</td>\n",
              "      <td>0.0</td>\n",
              "      <td>0</td>\n",
              "      <td>Transient</td>\n",
              "      <td>0.00</td>\n",
              "      <td>0</td>\n",
              "      <td>0</td>\n",
              "      <td>Check-Out</td>\n",
              "      <td>2015-07-01</td>\n",
              "    </tr>\n",
              "    <tr>\n",
              "      <th>2</th>\n",
              "      <td>Resort Hotel</td>\n",
              "      <td>0</td>\n",
              "      <td>7</td>\n",
              "      <td>2015</td>\n",
              "      <td>July</td>\n",
              "      <td>27</td>\n",
              "      <td>1</td>\n",
              "      <td>0</td>\n",
              "      <td>1</td>\n",
              "      <td>1</td>\n",
              "      <td>...</td>\n",
              "      <td>No Deposit</td>\n",
              "      <td>0</td>\n",
              "      <td>0.0</td>\n",
              "      <td>0</td>\n",
              "      <td>Transient</td>\n",
              "      <td>75.00</td>\n",
              "      <td>0</td>\n",
              "      <td>0</td>\n",
              "      <td>Check-Out</td>\n",
              "      <td>2015-07-02</td>\n",
              "    </tr>\n",
              "    <tr>\n",
              "      <th>3</th>\n",
              "      <td>Resort Hotel</td>\n",
              "      <td>0</td>\n",
              "      <td>13</td>\n",
              "      <td>2015</td>\n",
              "      <td>July</td>\n",
              "      <td>27</td>\n",
              "      <td>1</td>\n",
              "      <td>0</td>\n",
              "      <td>1</td>\n",
              "      <td>1</td>\n",
              "      <td>...</td>\n",
              "      <td>No Deposit</td>\n",
              "      <td>304</td>\n",
              "      <td>0.0</td>\n",
              "      <td>0</td>\n",
              "      <td>Transient</td>\n",
              "      <td>75.00</td>\n",
              "      <td>0</td>\n",
              "      <td>0</td>\n",
              "      <td>Check-Out</td>\n",
              "      <td>2015-07-02</td>\n",
              "    </tr>\n",
              "    <tr>\n",
              "      <th>4</th>\n",
              "      <td>Resort Hotel</td>\n",
              "      <td>0</td>\n",
              "      <td>14</td>\n",
              "      <td>2015</td>\n",
              "      <td>July</td>\n",
              "      <td>27</td>\n",
              "      <td>1</td>\n",
              "      <td>0</td>\n",
              "      <td>2</td>\n",
              "      <td>2</td>\n",
              "      <td>...</td>\n",
              "      <td>No Deposit</td>\n",
              "      <td>240</td>\n",
              "      <td>0.0</td>\n",
              "      <td>0</td>\n",
              "      <td>Transient</td>\n",
              "      <td>98.00</td>\n",
              "      <td>0</td>\n",
              "      <td>1</td>\n",
              "      <td>Check-Out</td>\n",
              "      <td>2015-07-03</td>\n",
              "    </tr>\n",
              "    <tr>\n",
              "      <th>...</th>\n",
              "      <td>...</td>\n",
              "      <td>...</td>\n",
              "      <td>...</td>\n",
              "      <td>...</td>\n",
              "      <td>...</td>\n",
              "      <td>...</td>\n",
              "      <td>...</td>\n",
              "      <td>...</td>\n",
              "      <td>...</td>\n",
              "      <td>...</td>\n",
              "      <td>...</td>\n",
              "      <td>...</td>\n",
              "      <td>...</td>\n",
              "      <td>...</td>\n",
              "      <td>...</td>\n",
              "      <td>...</td>\n",
              "      <td>...</td>\n",
              "      <td>...</td>\n",
              "      <td>...</td>\n",
              "      <td>...</td>\n",
              "      <td>...</td>\n",
              "    </tr>\n",
              "    <tr>\n",
              "      <th>119385</th>\n",
              "      <td>City Hotel</td>\n",
              "      <td>0</td>\n",
              "      <td>23</td>\n",
              "      <td>2017</td>\n",
              "      <td>August</td>\n",
              "      <td>35</td>\n",
              "      <td>30</td>\n",
              "      <td>2</td>\n",
              "      <td>5</td>\n",
              "      <td>2</td>\n",
              "      <td>...</td>\n",
              "      <td>No Deposit</td>\n",
              "      <td>394</td>\n",
              "      <td>0.0</td>\n",
              "      <td>0</td>\n",
              "      <td>Transient</td>\n",
              "      <td>96.14</td>\n",
              "      <td>0</td>\n",
              "      <td>0</td>\n",
              "      <td>Check-Out</td>\n",
              "      <td>2017-09-06</td>\n",
              "    </tr>\n",
              "    <tr>\n",
              "      <th>119386</th>\n",
              "      <td>City Hotel</td>\n",
              "      <td>0</td>\n",
              "      <td>102</td>\n",
              "      <td>2017</td>\n",
              "      <td>August</td>\n",
              "      <td>35</td>\n",
              "      <td>31</td>\n",
              "      <td>2</td>\n",
              "      <td>5</td>\n",
              "      <td>3</td>\n",
              "      <td>...</td>\n",
              "      <td>No Deposit</td>\n",
              "      <td>9</td>\n",
              "      <td>0.0</td>\n",
              "      <td>0</td>\n",
              "      <td>Transient</td>\n",
              "      <td>225.43</td>\n",
              "      <td>0</td>\n",
              "      <td>2</td>\n",
              "      <td>Check-Out</td>\n",
              "      <td>2017-09-07</td>\n",
              "    </tr>\n",
              "    <tr>\n",
              "      <th>119387</th>\n",
              "      <td>City Hotel</td>\n",
              "      <td>0</td>\n",
              "      <td>34</td>\n",
              "      <td>2017</td>\n",
              "      <td>August</td>\n",
              "      <td>35</td>\n",
              "      <td>31</td>\n",
              "      <td>2</td>\n",
              "      <td>5</td>\n",
              "      <td>2</td>\n",
              "      <td>...</td>\n",
              "      <td>No Deposit</td>\n",
              "      <td>9</td>\n",
              "      <td>0.0</td>\n",
              "      <td>0</td>\n",
              "      <td>Transient</td>\n",
              "      <td>157.71</td>\n",
              "      <td>0</td>\n",
              "      <td>4</td>\n",
              "      <td>Check-Out</td>\n",
              "      <td>2017-09-07</td>\n",
              "    </tr>\n",
              "    <tr>\n",
              "      <th>119388</th>\n",
              "      <td>City Hotel</td>\n",
              "      <td>0</td>\n",
              "      <td>109</td>\n",
              "      <td>2017</td>\n",
              "      <td>August</td>\n",
              "      <td>35</td>\n",
              "      <td>31</td>\n",
              "      <td>2</td>\n",
              "      <td>5</td>\n",
              "      <td>2</td>\n",
              "      <td>...</td>\n",
              "      <td>No Deposit</td>\n",
              "      <td>89</td>\n",
              "      <td>0.0</td>\n",
              "      <td>0</td>\n",
              "      <td>Transient</td>\n",
              "      <td>104.40</td>\n",
              "      <td>0</td>\n",
              "      <td>0</td>\n",
              "      <td>Check-Out</td>\n",
              "      <td>2017-09-07</td>\n",
              "    </tr>\n",
              "    <tr>\n",
              "      <th>119389</th>\n",
              "      <td>City Hotel</td>\n",
              "      <td>0</td>\n",
              "      <td>205</td>\n",
              "      <td>2017</td>\n",
              "      <td>August</td>\n",
              "      <td>35</td>\n",
              "      <td>29</td>\n",
              "      <td>2</td>\n",
              "      <td>7</td>\n",
              "      <td>2</td>\n",
              "      <td>...</td>\n",
              "      <td>No Deposit</td>\n",
              "      <td>9</td>\n",
              "      <td>0.0</td>\n",
              "      <td>0</td>\n",
              "      <td>Transient</td>\n",
              "      <td>151.20</td>\n",
              "      <td>0</td>\n",
              "      <td>2</td>\n",
              "      <td>Check-Out</td>\n",
              "      <td>2017-09-07</td>\n",
              "    </tr>\n",
              "  </tbody>\n",
              "</table>\n",
              "<p>87230 rows × 32 columns</p>\n",
              "</div>\n",
              "      <button class=\"colab-df-convert\" onclick=\"convertToInteractive('df-679f98d2-e2f2-41a9-a7fb-58f2612108d9')\"\n",
              "              title=\"Convert this dataframe to an interactive table.\"\n",
              "              style=\"display:none;\">\n",
              "        \n",
              "  <svg xmlns=\"http://www.w3.org/2000/svg\" height=\"24px\"viewBox=\"0 0 24 24\"\n",
              "       width=\"24px\">\n",
              "    <path d=\"M0 0h24v24H0V0z\" fill=\"none\"/>\n",
              "    <path d=\"M18.56 5.44l.94 2.06.94-2.06 2.06-.94-2.06-.94-.94-2.06-.94 2.06-2.06.94zm-11 1L8.5 8.5l.94-2.06 2.06-.94-2.06-.94L8.5 2.5l-.94 2.06-2.06.94zm10 10l.94 2.06.94-2.06 2.06-.94-2.06-.94-.94-2.06-.94 2.06-2.06.94z\"/><path d=\"M17.41 7.96l-1.37-1.37c-.4-.4-.92-.59-1.43-.59-.52 0-1.04.2-1.43.59L10.3 9.45l-7.72 7.72c-.78.78-.78 2.05 0 2.83L4 21.41c.39.39.9.59 1.41.59.51 0 1.02-.2 1.41-.59l7.78-7.78 2.81-2.81c.8-.78.8-2.07 0-2.86zM5.41 20L4 18.59l7.72-7.72 1.47 1.35L5.41 20z\"/>\n",
              "  </svg>\n",
              "      </button>\n",
              "      \n",
              "  <style>\n",
              "    .colab-df-container {\n",
              "      display:flex;\n",
              "      flex-wrap:wrap;\n",
              "      gap: 12px;\n",
              "    }\n",
              "\n",
              "    .colab-df-convert {\n",
              "      background-color: #E8F0FE;\n",
              "      border: none;\n",
              "      border-radius: 50%;\n",
              "      cursor: pointer;\n",
              "      display: none;\n",
              "      fill: #1967D2;\n",
              "      height: 32px;\n",
              "      padding: 0 0 0 0;\n",
              "      width: 32px;\n",
              "    }\n",
              "\n",
              "    .colab-df-convert:hover {\n",
              "      background-color: #E2EBFA;\n",
              "      box-shadow: 0px 1px 2px rgba(60, 64, 67, 0.3), 0px 1px 3px 1px rgba(60, 64, 67, 0.15);\n",
              "      fill: #174EA6;\n",
              "    }\n",
              "\n",
              "    [theme=dark] .colab-df-convert {\n",
              "      background-color: #3B4455;\n",
              "      fill: #D2E3FC;\n",
              "    }\n",
              "\n",
              "    [theme=dark] .colab-df-convert:hover {\n",
              "      background-color: #434B5C;\n",
              "      box-shadow: 0px 1px 3px 1px rgba(0, 0, 0, 0.15);\n",
              "      filter: drop-shadow(0px 1px 2px rgba(0, 0, 0, 0.3));\n",
              "      fill: #FFFFFF;\n",
              "    }\n",
              "  </style>\n",
              "\n",
              "      <script>\n",
              "        const buttonEl =\n",
              "          document.querySelector('#df-679f98d2-e2f2-41a9-a7fb-58f2612108d9 button.colab-df-convert');\n",
              "        buttonEl.style.display =\n",
              "          google.colab.kernel.accessAllowed ? 'block' : 'none';\n",
              "\n",
              "        async function convertToInteractive(key) {\n",
              "          const element = document.querySelector('#df-679f98d2-e2f2-41a9-a7fb-58f2612108d9');\n",
              "          const dataTable =\n",
              "            await google.colab.kernel.invokeFunction('convertToInteractive',\n",
              "                                                     [key], {});\n",
              "          if (!dataTable) return;\n",
              "\n",
              "          const docLinkHtml = 'Like what you see? Visit the ' +\n",
              "            '<a target=\"_blank\" href=https://colab.research.google.com/notebooks/data_table.ipynb>data table notebook</a>'\n",
              "            + ' to learn more about interactive tables.';\n",
              "          element.innerHTML = '';\n",
              "          dataTable['output_type'] = 'display_data';\n",
              "          await google.colab.output.renderOutput(dataTable, element);\n",
              "          const docLink = document.createElement('div');\n",
              "          docLink.innerHTML = docLinkHtml;\n",
              "          element.appendChild(docLink);\n",
              "        }\n",
              "      </script>\n",
              "    </div>\n",
              "  </div>\n",
              "  "
            ]
          },
          "metadata": {},
          "execution_count": 39
        }
      ]
    },
    {
      "cell_type": "markdown",
      "source": [
        "# **Adr On basis of Optimal length of the stay.**"
      ],
      "metadata": {
        "id": "wtJW_RuM9o3k"
      }
    },
    {
      "cell_type": "markdown",
      "source": [
        "# Considering Total people as 2 persons"
      ],
      "metadata": {
        "id": "U8n91_BTtQG6"
      }
    },
    {
      "cell_type": "code",
      "source": [
        "df_copy['Total_People']=df_copy['adults']+df_copy['children']+df_copy['babies']\n",
        "df_copy['Total_stay_of_days']=df_copy['stays_in_week_nights']+df_copy['stays_in_weekend_nights']\n",
        "Average_2people_stay=df_copy[['Total_People','adr','Total_stay_of_days']][df_copy['Total_People']==2][df_copy['adr']<5000]"
      ],
      "metadata": {
        "colab": {
          "base_uri": "https://localhost:8080/"
        },
        "id": "9lohM2UVtfnr",
        "outputId": "4868aa85-bad3-440a-c44a-23a721e52a18"
      },
      "execution_count": null,
      "outputs": [
        {
          "output_type": "stream",
          "name": "stderr",
          "text": [
            "/usr/local/lib/python3.7/dist-packages/ipykernel_launcher.py:3: UserWarning: Boolean Series key will be reindexed to match DataFrame index.\n",
            "  This is separate from the ipykernel package so we can avoid doing imports until\n"
          ]
        }
      ]
    },
    {
      "cell_type": "code",
      "source": [
        "import matplotlib.pyplot as plt\n",
        "plt=reload(plt)\n",
        "plt.rcParams['figure.figsize'] = (20,5)\n",
        "plt.scatter(Average_2people_stay['Total_stay_of_days'],Average_2people_stay['adr'])\n",
        "plt.show()"
      ],
      "metadata": {
        "colab": {
          "base_uri": "https://localhost:8080/",
          "height": 320
        },
        "id": "2xU6PdN-1M5P",
        "outputId": "111f23f7-c13c-4f36-dd5e-b8c52b29b168"
      },
      "execution_count": null,
      "outputs": [
        {
          "output_type": "display_data",
          "data": {
            "text/plain": [
              "<Figure size 1440x360 with 1 Axes>"
            ],
            "image/png": "[encoded data removed]"
          },
          "metadata": {
            "needs_background": "light"
          }
        }
      ]
    },
    {
      "cell_type": "markdown",
      "source": [
        "# Considering Total people as 1 person stay"
      ],
      "metadata": {
        "id": "obIdFOWU-cY1"
      }
    },
    {
      "cell_type": "code",
      "source": [
        "df_copy['Total_People']=df_copy['adults']+df_copy['children']+df_copy['babies']\n",
        "df_copy['Total_stay_of_days']=df_copy['stays_in_week_nights']+df_copy['stays_in_weekend_nights']\n",
        "Average_1people_stay=df_copy[['Total_People','adr','Total_stay_of_days']][df_copy['Total_People']==1][df_copy['adr']<5000]"
      ],
      "metadata": {
        "colab": {
          "base_uri": "https://localhost:8080/"
        },
        "id": "yZgXsd1_-Fd8",
        "outputId": "7e18533e-96f0-40ec-e985-31f03af21bc0"
      },
      "execution_count": null,
      "outputs": [
        {
          "output_type": "stream",
          "name": "stderr",
          "text": [
            "/usr/local/lib/python3.7/dist-packages/ipykernel_launcher.py:3: UserWarning: Boolean Series key will be reindexed to match DataFrame index.\n",
            "  This is separate from the ipykernel package so we can avoid doing imports until\n"
          ]
        }
      ]
    },
    {
      "cell_type": "code",
      "source": [
        "import matplotlib.pyplot as plt\n",
        "plt=reload(plt)\n",
        "plt.rcParams['figure.figsize'] = (20,5)\n",
        "plt.scatter(Average_1people_stay['Total_stay_of_days'],Average_1people_stay['adr'])\n",
        "plt.show()"
      ],
      "metadata": {
        "colab": {
          "base_uri": "https://localhost:8080/",
          "height": 320
        },
        "id": "UQu_kPru-mpk",
        "outputId": "df9a2cd1-6cc4-45df-c491-6de98bc5638f"
      },
      "execution_count": null,
      "outputs": [
        {
          "output_type": "display_data",
          "data": {
            "text/plain": [
              "<Figure size 1440x360 with 1 Axes>"
            ],
            "image/png": "[encoded data removed]"
          },
          "metadata": {
            "needs_background": "light"
          }
        }
      ]
    },
    {
      "cell_type": "markdown",
      "source": [
        "# Considering Total people as 3 person stay"
      ],
      "metadata": {
        "id": "ew4sGQXd-2MF"
      }
    },
    {
      "cell_type": "code",
      "source": [
        "df_copy['Total_People']=df_copy['adults']+df_copy['children']+df_copy['babies']\n",
        "df_copy['Total_stay_of_days']=df_copy['stays_in_week_nights']+df_copy['stays_in_weekend_nights']\n",
        "Average_3people_stay=df_copy[['Total_People','adr','Total_stay_of_days']][df_copy['Total_People']==3][df_copy['adr']<5000]"
      ],
      "metadata": {
        "colab": {
          "base_uri": "https://localhost:8080/"
        },
        "id": "ky4GVtEY_iHr",
        "outputId": "39fb8cec-2dd4-44e1-857f-e002ab92d38f"
      },
      "execution_count": null,
      "outputs": [
        {
          "output_type": "stream",
          "name": "stderr",
          "text": [
            "/usr/local/lib/python3.7/dist-packages/ipykernel_launcher.py:3: UserWarning: Boolean Series key will be reindexed to match DataFrame index.\n",
            "  This is separate from the ipykernel package so we can avoid doing imports until\n"
          ]
        }
      ]
    },
    {
      "cell_type": "code",
      "source": [
        "import matplotlib.pyplot as plt\n",
        "plt=reload(plt)\n",
        "plt.rcParams['figure.figsize'] = (20,5)\n",
        "plt.scatter(Average_3people_stay['Total_stay_of_days'],Average_3people_stay['adr'])\n",
        "plt.show()"
      ],
      "metadata": {
        "colab": {
          "base_uri": "https://localhost:8080/",
          "height": 320
        },
        "id": "9LiOCFJw_qAs",
        "outputId": "6c1dda23-6bcb-4867-e3bf-1d5adf0ebcf0"
      },
      "execution_count": null,
      "outputs": [
        {
          "output_type": "display_data",
          "data": {
            "text/plain": [
              "<Figure size 1440x360 with 1 Axes>"
            ],
            "image/png": "[encoded data removed]"
          },
          "metadata": {
            "needs_background": "light"
          }
        }
      ]
    },
    {
      "cell_type": "markdown",
      "source": [
        "# From the above charts it is clear that , If the no. of days increase ADR will get decrease."
      ],
      "metadata": {
        "id": "tokMvLDMAydk"
      }
    },
    {
      "cell_type": "markdown",
      "source": [
        "# **Conclusion**"
      ],
      "metadata": {
        "id": "jx09qudGdkE4"
      }
    },
    {
      "cell_type": "markdown",
      "source": [
        "![image.png](data:image/png;base64,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)"
      ],
      "metadata": {
        "id": "K6n2s04GdWGe"
      }
    }
  ]
}